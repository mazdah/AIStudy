{
 "cells": [
  {
   "cell_type": "markdown",
   "id": "f50219ae-52e1-43c3-894f-5100c1626888",
   "metadata": {},
   "source": [
    "### 필요한 모듈 추가\n",
    "- Dense: 완전 결합층\n",
    "- Flatten: 완전 결합층과의 연결을 위한 평탄화 처리\n",
    "- Conv2D: 이미지 특성 추출을 위한 레이어"
   ]
  },
  {
   "cell_type": "code",
   "execution_count": 1,
   "id": "7c75b84e-f1a6-4821-bfac-fe7e46788f79",
   "metadata": {},
   "outputs": [],
   "source": [
    "import tensorflow as tf\n",
    "\n",
    "from tensorflow.keras.layers import Dense, Flatten, Conv2D\n",
    "from tensorflow.keras import Model"
   ]
  },
  {
   "cell_type": "markdown",
   "id": "00d9d405-eeb4-4809-9a55-b37425f48e1b",
   "metadata": {},
   "source": [
    "### MNIST 데이터 세트 로드\n",
    "- 데이터를 실수형으로 변환\n",
    "- 채널 정보를 갖는 차원 추가"
   ]
  },
  {
   "cell_type": "code",
   "execution_count": 7,
   "id": "30e86df9-25b9-4c62-ba96-0a14e8fbe617",
   "metadata": {},
   "outputs": [
    {
     "name": "stdout",
     "output_type": "stream",
     "text": [
      "(60000, 28, 28)\n"
     ]
    }
   ],
   "source": [
    "mnist = tf.keras.datasets.mnist\n",
    "\n",
    "(x_train, y_train), (x_test, y_test) = mnist.load_data()\n",
    "x_train, x_test = x_train / 255.0, x_test / 255.0\n",
    "print(x_train.shape)\n",
    "\n",
    "# Add a channels dimension\n",
    "x_train = x_train[..., tf.newaxis].astype(\"float32\")\n",
    "x_test = x_test[..., tf.newaxis].astype(\"float32\")"
   ]
  },
  {
   "cell_type": "code",
   "execution_count": 9,
   "id": "2b2a68c2-9286-4301-bbc7-1a336f05d8db",
   "metadata": {},
   "outputs": [
    {
     "data": {
      "text/plain": [
       "(60000, 28, 28, 1)"
      ]
     },
     "execution_count": 9,
     "metadata": {},
     "output_type": "execute_result"
    }
   ],
   "source": [
    "x_train.shape"
   ]
  },
  {
   "cell_type": "markdown",
   "id": "848e9b2b-b7ff-4ebe-8cbe-28b7b9b06b6d",
   "metadata": {},
   "source": [
    "### 데이터 세트를 섞고 배치 생성"
   ]
  },
  {
   "cell_type": "code",
   "execution_count": 11,
   "id": "9870c619-80d4-4d77-9370-bbe6ec32d81b",
   "metadata": {},
   "outputs": [],
   "source": [
    "train_ds = tf.data.Dataset.from_tensor_slices(\n",
    "    (x_train, y_train)).shuffle(10000).batch(32)\n",
    "\n",
    "test_ds = tf.data.Dataset.from_tensor_slices((x_test, y_test)).batch(32)"
   ]
  },
  {
   "cell_type": "markdown",
   "id": "e5089aa2-c1cc-46c0-b729-03e3f0d4e478",
   "metadata": {},
   "source": [
    "### 모델 클래스 생성\n",
    "- Conv2D: Convolution 레이어, 출력 필터 32개 커널 사이즈 3, 활성화 함수 relu\n",
    "- Flatten: 완전 연결 계층을 위한 평탄화\n",
    "- Dense: 완전 연결 레이어, 출력 공간 크기 128, 활성화 함수 relu\n",
    "- Dense: 최종 완전 연결 게층, 출력 공간 크기 10(라벨 수)"
   ]
  },
  {
   "cell_type": "code",
   "execution_count": 12,
   "id": "0cd0bc18-527d-47b7-912f-6bed6e23e0b1",
   "metadata": {},
   "outputs": [],
   "source": [
    "class MyModel(Model):\n",
    "  def __init__(self):\n",
    "    super(MyModel, self).__init__()\n",
    "    self.conv1 = Conv2D(32, 3, activation='relu')\n",
    "    self.flatten = Flatten()\n",
    "    self.d1 = Dense(128, activation='relu')\n",
    "    self.d2 = Dense(10)\n",
    "\n",
    "  def call(self, x):\n",
    "    x = self.conv1(x)\n",
    "    x = self.flatten(x)\n",
    "    x = self.d1(x)\n",
    "    return self.d2(x)\n",
    "\n",
    "# Create an instance of the model\n",
    "model = MyModel()"
   ]
  },
  {
   "cell_type": "markdown",
   "id": "1ac3c518-e5b4-46d3-9793-1054f2ff64df",
   "metadata": {},
   "source": [
    "### Optimizer와 손실 함수 선택\n",
    "- SparseCategoricalCrossentropy: \n",
    "    - 라벨의 클래스가 2개 이상인 경우 사용\n",
    "    - 정수 형태의 라벨을 처리해주는 손실함수 (One-hot vector 형태인 경우에는 CategoricalCrossentropy 사용)\n",
    "    - 내부적으로 One-hot-encoding으로 변환하여 처리한다.\n",
    "- Adam:\n",
    "    - 각 파라미터마다 다른 크기의 업데이트 사용\n",
    "    - Adagrad + RMSProp\n",
    "    - 주요 장점은 stepsize가 gradient의 rescaling에 영향 받지 않는다"
   ]
  },
  {
   "cell_type": "code",
   "execution_count": 13,
   "id": "29aeebb2-53c1-4a8f-aafa-ac7c268bdaa1",
   "metadata": {},
   "outputs": [],
   "source": [
    "loss_object = tf.keras.losses.SparseCategoricalCrossentropy(from_logits=True)\n",
    "\n",
    "optimizer = tf.keras.optimizers.Adam()"
   ]
  },
  {
   "cell_type": "markdown",
   "id": "e03809be-79b8-471c-8ed0-a9d0f80a4996",
   "metadata": {},
   "source": [
    "### 모델의 성능과 손실 지표 설정"
   ]
  },
  {
   "cell_type": "code",
   "execution_count": 14,
   "id": "f6ae729f-eecd-43e6-a092-c46e99582cc2",
   "metadata": {},
   "outputs": [],
   "source": [
    "train_loss = tf.keras.metrics.Mean(name='train_loss')\n",
    "train_accuracy = tf.keras.metrics.SparseCategoricalAccuracy(name='train_accuracy')\n",
    "\n",
    "test_loss = tf.keras.metrics.Mean(name='test_loss')\n",
    "test_accuracy = tf.keras.metrics.SparseCategoricalAccuracy(name='test_accuracy')"
   ]
  },
  {
   "cell_type": "markdown",
   "id": "ca4af713-4ea4-4543-aad7-ad716300a9bb",
   "metadata": {},
   "source": [
    "### 모델 훈련"
   ]
  },
  {
   "cell_type": "code",
   "execution_count": 15,
   "id": "28de74ac-13e5-4eb3-adb1-7ca2f9c84a5e",
   "metadata": {},
   "outputs": [],
   "source": [
    "@tf.function\n",
    "def train_step(images, labels):\n",
    "  with tf.GradientTape() as tape:\n",
    "    # training=True is only needed if there are layers with different\n",
    "    # behavior during training versus inference (e.g. Dropout).\n",
    "    predictions = model(images, training=True)\n",
    "    loss = loss_object(labels, predictions)\n",
    "  gradients = tape.gradient(loss, model.trainable_variables)\n",
    "  optimizer.apply_gradients(zip(gradients, model.trainable_variables))\n",
    "\n",
    "  train_loss(loss)\n",
    "  train_accuracy(labels, predictions)"
   ]
  },
  {
   "cell_type": "markdown",
   "id": "9b937cf1-4f6d-494c-b9aa-424bcbb9232c",
   "metadata": {},
   "source": [
    "### 모델 테스트"
   ]
  },
  {
   "cell_type": "code",
   "execution_count": 16,
   "id": "419464e6-893b-4133-9f25-7612560bac32",
   "metadata": {},
   "outputs": [],
   "source": [
    "@tf.function\n",
    "def test_step(images, labels):\n",
    "  # training=False is only needed if there are layers with different\n",
    "  # behavior during training versus inference (e.g. Dropout).\n",
    "  predictions = model(images, training=False)\n",
    "  t_loss = loss_object(labels, predictions)\n",
    "\n",
    "  test_loss(t_loss)\n",
    "  test_accuracy(labels, predictions)"
   ]
  },
  {
   "cell_type": "code",
   "execution_count": 17,
   "id": "a813ce78-1df4-4182-a1fc-313726b036b0",
   "metadata": {},
   "outputs": [
    {
     "name": "stderr",
     "output_type": "stream",
     "text": [
      "2022-01-24 14:49:39.070639: W tensorflow/core/platform/profile_utils/cpu_utils.cc:128] Failed to get CPU frequency: 0 Hz\n",
      "2022-01-24 14:49:39.070697: I tensorflow/core/grappler/optimizers/custom_graph_optimizer_registry.cc:112] Plugin optimizer for device_type GPU is enabled.\n",
      "2022-01-24 14:49:53.550693: I tensorflow/core/grappler/optimizers/custom_graph_optimizer_registry.cc:112] Plugin optimizer for device_type GPU is enabled.\n",
      "2022-01-24 14:49:55.053240: I tensorflow/core/grappler/optimizers/custom_graph_optimizer_registry.cc:112] Plugin optimizer for device_type GPU is enabled.\n"
     ]
    },
    {
     "name": "stdout",
     "output_type": "stream",
     "text": [
      "Epoch 1, Loss: 0.13899236917495728, Accuracy: 95.84333038330078, Test Loss: 0.06439483910799026, Test Accuracy: 97.94000244140625\n",
      "Epoch 2, Loss: 0.04431848227977753, Accuracy: 98.625, Test Loss: 0.05371560901403427, Test Accuracy: 98.17000579833984\n",
      "Epoch 3, Loss: 0.02307759039103985, Accuracy: 99.23666381835938, Test Loss: 0.056773096323013306, Test Accuracy: 98.32000732421875\n",
      "Epoch 4, Loss: 0.013629536144435406, Accuracy: 99.54000091552734, Test Loss: 0.06244818866252899, Test Accuracy: 98.29000091552734\n",
      "Epoch 5, Loss: 0.010191570036113262, Accuracy: 99.63833618164062, Test Loss: 0.07394283264875412, Test Accuracy: 98.30000305175781\n"
     ]
    }
   ],
   "source": [
    "EPOCHS = 5\n",
    "\n",
    "for epoch in range(EPOCHS):\n",
    "  # Reset the metrics at the start of the next epoch\n",
    "  train_loss.reset_states()\n",
    "  train_accuracy.reset_states()\n",
    "  test_loss.reset_states()\n",
    "  test_accuracy.reset_states()\n",
    "\n",
    "  for images, labels in train_ds:\n",
    "    train_step(images, labels)\n",
    "\n",
    "  for test_images, test_labels in test_ds:\n",
    "    test_step(test_images, test_labels)\n",
    "\n",
    "  print(\n",
    "    f'Epoch {epoch + 1}, '\n",
    "    f'Loss: {train_loss.result()}, '\n",
    "    f'Accuracy: {train_accuracy.result() * 100}, '\n",
    "    f'Test Loss: {test_loss.result()}, '\n",
    "    f'Test Accuracy: {test_accuracy.result() * 100}'\n",
    "  )"
   ]
  },
  {
   "cell_type": "code",
   "execution_count": null,
   "id": "530d1f9c-f475-48ff-8632-ad9ef2e1ea03",
   "metadata": {},
   "outputs": [],
   "source": []
  }
 ],
 "metadata": {
  "kernelspec": {
   "display_name": "Python 3 (ipykernel)",
   "language": "python",
   "name": "python3"
  },
  "language_info": {
   "codemirror_mode": {
    "name": "ipython",
    "version": 3
   },
   "file_extension": ".py",
   "mimetype": "text/x-python",
   "name": "python",
   "nbconvert_exporter": "python",
   "pygments_lexer": "ipython3",
   "version": "3.9.9"
  }
 },
 "nbformat": 4,
 "nbformat_minor": 5
}
