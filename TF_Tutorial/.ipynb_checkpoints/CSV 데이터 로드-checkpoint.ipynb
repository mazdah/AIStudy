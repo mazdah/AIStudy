{
 "cells": [
  {
   "cell_type": "markdown",
   "id": "eb842d16-1b86-4790-9849-f53f836edd76",
   "metadata": {},
   "source": [
    "# CSV 데이터 로드\n",
    "\n",
    "- `tf.data.Dataset`를 이용한 CSV 데이터 로드\n",
    "- 타이타닉 데이터 로드 연습\n",
    "\n",
    "---\n",
    "\n",
    "### 설정\n",
    "\n",
    "- `tf.keras.utils.get_file`는 두 번째 파라미터인 URL로부터 첫 번째 인자인 파일을 가져온다.\n",
    "- 파일이 저장되는 기본 경로는 Mac OS 기준 /Users/\\<user name\\>/.keras/datasets 이다."
   ]
  },
  {
   "cell_type": "code",
   "execution_count": 1,
   "id": "02a4d6dc-dcde-4c57-9972-920adb9c6e21",
   "metadata": {},
   "outputs": [],
   "source": [
    "import functools\n",
    "\n",
    "import numpy as np\n",
    "import tensorflow as tf"
   ]
  },
  {
   "cell_type": "code",
   "execution_count": 2,
   "id": "01b512e1-b55b-466b-9f8a-19cf3b94ce0b",
   "metadata": {},
   "outputs": [
    {
     "name": "stdout",
     "output_type": "stream",
     "text": [
      "Downloading data from https://storage.googleapis.com/tf-datasets/titanic/train.csv\n",
      "32768/30874 [===============================] - 0s 0us/step\n",
      "40960/30874 [=======================================] - 0s 0us/step\n",
      "Downloading data from https://storage.googleapis.com/tf-datasets/titanic/eval.csv\n",
      "16384/13049 [=====================================] - 0s 0us/step\n",
      "24576/13049 [========================================================] - 0s 0us/step\n"
     ]
    }
   ],
   "source": [
    "TRAIN_DATA_URL = \"https://storage.googleapis.com/tf-datasets/titanic/train.csv\"\n",
    "TEST_DATA_URL = \"https://storage.googleapis.com/tf-datasets/titanic/eval.csv\"\n",
    "\n",
    "train_file_path = tf.keras.utils.get_file(\"train.csv\", TRAIN_DATA_URL)\n",
    "test_file_path = tf.keras.utils.get_file(\"eval.csv\", TEST_DATA_URL)"
   ]
  },
  {
   "cell_type": "code",
   "execution_count": 45,
   "id": "4d6a3f97-2c8f-412e-a12d-08a236f3f25d",
   "metadata": {},
   "outputs": [
    {
     "name": "stdout",
     "output_type": "stream",
     "text": [
      "/Users/mazdah/.keras/datasets/train.csv /Users/mazdah/.keras/datasets/eval.csv\n"
     ]
    }
   ],
   "source": [
    "print(train_file_path, test_file_path)"
   ]
  },
  {
   "cell_type": "code",
   "execution_count": 47,
   "id": "08add769-3845-4d1f-b744-e41ba3e7ebac",
   "metadata": {},
   "outputs": [],
   "source": [
    "# 화면에 출력될 값을 읽기 쉽도록 조정하는 함수\n",
    "np.set_printoptions(precision=3, suppress=True)"
   ]
  },
  {
   "cell_type": "markdown",
   "id": "a11a1d1a-f1ed-4382-b5af-b0a656fd7f60",
   "metadata": {},
   "source": [
    "---\n",
    "\n",
    "### 데이터 로드"
   ]
  },
  {
   "cell_type": "markdown",
   "id": "a4fa8c16-f52c-4be6-901d-13b15180c658",
   "metadata": {},
   "source": [
    "- 큰 파일 세트로 확장하거나 tf.datad와 통합되어야 하는 경우 `tf.data.experimental.make_csv_dataset` 함수 사용\n",
    "- 예측해야 할 값과 관련된 변수"
   ]
  },
  {
   "cell_type": "code",
   "execution_count": 8,
   "id": "890e9344-8d09-4915-9e5a-a8c0ad703c84",
   "metadata": {},
   "outputs": [],
   "source": [
    "LABEL_COLUMN = 'survived'\n",
    "LABELS = [0, 1]"
   ]
  },
  {
   "cell_type": "markdown",
   "id": "2c7cb0af-5bf6-4cc8-9735-f863c4376c6b",
   "metadata": {},
   "source": [
    "- 파일에서 CSV 데이터를 읽고 데이터세트를 작성\n",
    "- `tf.data.experimental.make_csv_dataset`은 CSV 파일로부터 Dataset 객체를 만든다.\n",
    "\n",
    "> 참조 URL : [tf.data.experimental.make_csv_dataset](https://www.tensorflow.org/api_docs/python/tf/data/experimental/make_csv_dataset)"
   ]
  },
  {
   "cell_type": "code",
   "execution_count": 49,
   "id": "67863e05-61a3-4b87-a4cd-ac6373947e07",
   "metadata": {},
   "outputs": [],
   "source": [
    "# Python 기본 : **kwargs는 (키워드=값) 형태의 파라미터를 다수 받을 수 있다는 의미이다.\n",
    "#              *args는 다수의 파라미터를 받을 수 있다는 의미이며 튜플의 형태이다.\n",
    "def get_dataset(file_path, **kwargs):\n",
    "  dataset = tf.data.experimental.make_csv_dataset(\n",
    "      file_path,\n",
    "      batch_size=5, # Artificially small to make examples easier to show.\n",
    "      label_name=LABEL_COLUMN,    # label_name 파라미터로 지정된 컬럼은 별도의 Tensor로 분리된다.\n",
    "      na_value=\"?\",\n",
    "      num_epochs=1,\n",
    "      ignore_errors=True, \n",
    "      **kwargs)\n",
    "  return dataset\n",
    "\n",
    "raw_train_data = get_dataset(train_file_path)\n",
    "raw_test_data = get_dataset(test_file_path)"
   ]
  },
  {
   "cell_type": "code",
   "execution_count": 50,
   "id": "1b140bdd-320d-4b04-af87-69910a1059bb",
   "metadata": {},
   "outputs": [
    {
     "name": "stdout",
     "output_type": "stream",
     "text": [
      "<PrefetchDataset shapes: (OrderedDict([(sex, (None,)), (age, (None,)), (n_siblings_spouses, (None,)), (parch, (None,)), (fare, (None,)), (class, (None,)), (deck, (None,)), (embark_town, (None,)), (alone, (None,))]), (None,)), types: (OrderedDict([(sex, tf.string), (age, tf.float32), (n_siblings_spouses, tf.int32), (parch, tf.int32), (fare, tf.float32), (class, tf.string), (deck, tf.string), (embark_town, tf.string), (alone, tf.string)]), tf.int32)>\n",
      "<PrefetchDataset shapes: (OrderedDict([(sex, (None,)), (age, (None,)), (n_siblings_spouses, (None,)), (parch, (None,)), (fare, (None,)), (class, (None,)), (deck, (None,)), (embark_town, (None,)), (alone, (None,))]), (None,)), types: (OrderedDict([(sex, tf.string), (age, tf.float32), (n_siblings_spouses, tf.int32), (parch, tf.int32), (fare, tf.float32), (class, tf.string), (deck, tf.string), (embark_town, tf.string), (alone, tf.string)]), tf.int32)>\n"
     ]
    }
   ],
   "source": [
    "print(raw_train_data)\n",
    "print(raw_test_data)"
   ]
  },
  {
   "cell_type": "code",
   "execution_count": 51,
   "id": "738790df-52b3-4550-b068-d7fddca654e4",
   "metadata": {},
   "outputs": [],
   "source": [
    "def show_batch(dataset):\n",
    "  for batch, label in dataset.take(1):\n",
    "    for key, value in batch.items():\n",
    "      print(\"{:20s}: {}\".format(key,value.numpy()))"
   ]
  },
  {
   "cell_type": "markdown",
   "id": "5087a3f5-bad5-48c5-b509-53cd824a7e7e",
   "metadata": {},
   "source": [
    "- 데이터세트의 각 항목은 하나의 배치이며, (다수의 예제, 다수의 레이블)의 튜플로 표현됨 \n",
    "- 예제의 데이터는 행 기반 텐서가 아닌 열 기반 텐서로 구성\n",
    "- 각 데이터는 배치 크기(이 경우 5)만큼 많은 요소가 있음"
   ]
  },
  {
   "cell_type": "code",
   "execution_count": 13,
   "id": "3de9eb3d-185e-4e58-83a7-15f74936b826",
   "metadata": {},
   "outputs": [
    {
     "name": "stdout",
     "output_type": "stream",
     "text": [
      "sex                 : [b'female' b'male' b'female' b'male' b'male']\n",
      "age                 : [32. 28. 44. 31. 19.]\n",
      "n_siblings_spouses  : [1 0 0 0 0]\n",
      "parch               : [1 0 0 0 0]\n",
      "fare                : [15.5   30.5   27.721  7.775 10.5  ]\n",
      "class               : [b'Third' b'First' b'First' b'Third' b'Second']\n",
      "deck                : [b'unknown' b'C' b'B' b'unknown' b'unknown']\n",
      "embark_town         : [b'Queenstown' b'Southampton' b'Cherbourg' b'Southampton' b'Southampton']\n",
      "alone               : [b'n' b'y' b'y' b'y' b'y']\n"
     ]
    },
    {
     "name": "stderr",
     "output_type": "stream",
     "text": [
      "2022-04-11 10:22:57.184059: W tensorflow/core/platform/profile_utils/cpu_utils.cc:128] Failed to get CPU frequency: 0 Hz\n"
     ]
    }
   ],
   "source": [
    "show_batch(raw_train_data)"
   ]
  },
  {
   "cell_type": "markdown",
   "id": "82c819d5-5741-49cd-b8da-52d7a350d71b",
   "metadata": {},
   "source": [
    "- 기본적으로 CSV의 열 이름이 지정되나 첫 번째 줄에 열 이름이 없는 경우 열 이름을 문자열 목록으로 `make_csv_dataset` 함수의 `column_names` 인수로 전달하여 처리"
   ]
  },
  {
   "cell_type": "code",
   "execution_count": 14,
   "id": "3fad12d4-03a0-4680-b9d4-cde148a431f3",
   "metadata": {},
   "outputs": [
    {
     "name": "stdout",
     "output_type": "stream",
     "text": [
      "sex                 : [b'male' b'male' b'female' b'male' b'male']\n",
      "age                 : [ 0.83 26.   22.   43.   20.  ]\n",
      "n_siblings_spouses  : [0 2 0 0 1]\n",
      "parch               : [2 0 1 0 1]\n",
      "fare                : [29.     8.663 55.     8.05  15.742]\n",
      "class               : [b'Second' b'Third' b'First' b'Third' b'Third']\n",
      "deck                : [b'unknown' b'unknown' b'E' b'unknown' b'unknown']\n",
      "embark_town         : [b'Southampton' b'Southampton' b'Southampton' b'Southampton' b'Cherbourg']\n",
      "alone               : [b'n' b'n' b'n' b'y' b'n']\n"
     ]
    }
   ],
   "source": [
    "CSV_COLUMNS = ['survived', 'sex', 'age', 'n_siblings_spouses', 'parch', 'fare', 'class', 'deck', 'embark_town', 'alone']\n",
    "\n",
    "temp_dataset = get_dataset(train_file_path, column_names=CSV_COLUMNS)\n",
    "\n",
    "show_batch(temp_dataset)"
   ]
  },
  {
   "cell_type": "markdown",
   "id": "d40682f7-f4d0-40b6-a2df-21d9e25d3e20",
   "metadata": {},
   "source": [
    "- 데이터세트에서 일부 열을 생략해야 하는 경우, 사용하려는 열의 목록만 작성하고 생성자의 (선택적) `select_columns` 인수로 전달\n",
    "- `make_csv_datase` 함수는 `select_columns`로 전달받은 컬럼명들에 해당하는 컬럼들만을 뽑아서 dataset을 만든다 "
   ]
  },
  {
   "cell_type": "code",
   "execution_count": 15,
   "id": "977cfd64-77c4-47f9-81f0-5ad3f66bfcc2",
   "metadata": {},
   "outputs": [
    {
     "name": "stdout",
     "output_type": "stream",
     "text": [
      "age                 : [28. 28. 28. 36. 63.]\n",
      "n_siblings_spouses  : [0 0 0 1 1]\n",
      "class               : [b'Third' b'Third' b'Third' b'Second' b'First']\n",
      "deck                : [b'unknown' b'unknown' b'unknown' b'unknown' b'D']\n",
      "alone               : [b'y' b'y' b'y' b'n' b'n']\n"
     ]
    }
   ],
   "source": [
    "SELECT_COLUMNS = ['survived', 'age', 'n_siblings_spouses', 'class', 'deck', 'alone']\n",
    "\n",
    "temp_dataset = get_dataset(train_file_path, select_columns=SELECT_COLUMNS)\n",
    "\n",
    "show_batch(temp_dataset)"
   ]
  },
  {
   "cell_type": "markdown",
   "id": "e0272015-f2e0-4f63-8c75-f3a02113e9fc",
   "metadata": {},
   "source": [
    "---\n",
    "\n",
    "### 데이터 전처리\n",
    "- 일반적으로 데이터를 모델에 공급하기 전에 혼합 유형에서 고정 길이 벡터로 변환\n",
    "- `tf.feature_column` : TensorFlow의 일반적인 입력 변환을 설명하기 위한 내장 시스템\n",
    "- 모델 내에서 전처리를 수행할 때의 주요 이점은 모델을 내보낼 때 전처리가 포함된다는 것. 이렇게 하면 원시 데이터를 모델로 직접 전달할 수 있음.\n",
    "\n",
    "#### 연속 데이터\n",
    "- 데이터가 이미 적절한 숫자 형식인 경우, 데이터를 모델로 전달하기 전에 벡터로 묶음"
   ]
  },
  {
   "cell_type": "code",
   "execution_count": 16,
   "id": "5d89075c-191f-4a4b-b18b-5ab0e9b3875c",
   "metadata": {},
   "outputs": [
    {
     "name": "stdout",
     "output_type": "stream",
     "text": [
      "age                 : [64. 32. 25. 27.  7.]\n",
      "n_siblings_spouses  : [1. 1. 0. 0. 4.]\n",
      "parch               : [4. 1. 0. 0. 1.]\n",
      "fare                : [263.     15.5     0.      7.896  39.688]\n"
     ]
    }
   ],
   "source": [
    "SELECT_COLUMNS = ['survived', 'age', 'n_siblings_spouses', 'parch', 'fare']\n",
    "DEFAULTS = [0, 0.0, 0.0, 0.0, 0.0]\n",
    "temp_dataset = get_dataset(train_file_path, \n",
    "                           select_columns=SELECT_COLUMNS,\n",
    "                           column_defaults = DEFAULTS)\n",
    "\n",
    "show_batch(temp_dataset)"
   ]
  },
  {
   "cell_type": "code",
   "execution_count": 17,
   "id": "a86c8e47-33a1-4a6d-8080-ba98a5966be4",
   "metadata": {},
   "outputs": [],
   "source": [
    "example_batch, labels_batch = next(iter(temp_dataset))"
   ]
  },
  {
   "cell_type": "markdown",
   "id": "820bd84f-2855-4fcd-8eeb-0634ca9260d6",
   "metadata": {},
   "source": [
    "- 모든 열을 묶는 간단한 함수"
   ]
  },
  {
   "cell_type": "code",
   "execution_count": 18,
   "id": "fae26b9b-3d30-453e-8919-24911fde3237",
   "metadata": {},
   "outputs": [],
   "source": [
    "def pack(features, label):\n",
    "  return tf.stack(list(features.values()), axis=-1), label"
   ]
  },
  {
   "cell_type": "markdown",
   "id": "ec100699-8dda-45db-9830-05c6dd115c1c",
   "metadata": {},
   "source": [
    "- 이 함수를 데이터세트의 각 요소에 적용"
   ]
  },
  {
   "cell_type": "code",
   "execution_count": 19,
   "id": "b8fc1a55-dcd4-4904-b1b7-a74c7be4e7ca",
   "metadata": {},
   "outputs": [
    {
     "name": "stdout",
     "output_type": "stream",
     "text": [
      "[[28.     0.     0.     7.729]\n",
      " [52.     1.     1.    93.5  ]\n",
      " [19.     0.     0.    10.5  ]\n",
      " [42.     1.     0.    52.   ]\n",
      " [32.     0.     0.    56.496]]\n",
      "\n",
      "[0 1 0 0 1]\n"
     ]
    }
   ],
   "source": [
    "packed_dataset = temp_dataset.map(pack)\n",
    "\n",
    "for features, labels in packed_dataset.take(1):\n",
    "  print(features.numpy())\n",
    "  print()\n",
    "  print(labels.numpy())"
   ]
  },
  {
   "cell_type": "markdown",
   "id": "d9c63dda-73d4-41fb-8874-fd64c35b088a",
   "metadata": {},
   "source": [
    "- 혼합 데이터 유형이 있는 경우, 해당 단순 숫자 필드를 분리할 수 있음 \n",
    "- `tf.feature_column` API로 처리할 수 있지만, 약간의 오버헤드가 발생하며 실제로 필요하지 않으면 피해야 함"
   ]
  },
  {
   "cell_type": "code",
   "execution_count": 20,
   "id": "9c0dc450-596a-48be-a253-a1800016cbb3",
   "metadata": {},
   "outputs": [
    {
     "name": "stdout",
     "output_type": "stream",
     "text": [
      "sex                 : [b'male' b'female' b'female' b'male' b'male']\n",
      "age                 : [35. 28. 28. 28. 24.]\n",
      "n_siblings_spouses  : [0 1 0 0 0]\n",
      "parch               : [0 0 0 0 0]\n",
      "fare                : [ 26.288 146.521   7.75    7.229  79.2  ]\n",
      "class               : [b'First' b'First' b'Third' b'Third' b'First']\n",
      "deck                : [b'E' b'B' b'unknown' b'unknown' b'B']\n",
      "embark_town         : [b'Southampton' b'Cherbourg' b'Queenstown' b'Cherbourg' b'Cherbourg']\n",
      "alone               : [b'y' b'n' b'y' b'y' b'y']\n"
     ]
    }
   ],
   "source": [
    "show_batch(raw_train_data)"
   ]
  },
  {
   "cell_type": "code",
   "execution_count": 21,
   "id": "cd5f2cb3-bc6a-4f24-b082-da52998c8456",
   "metadata": {},
   "outputs": [],
   "source": [
    "example_batch, labels_batch = next(iter(temp_dataset))"
   ]
  },
  {
   "cell_type": "markdown",
   "id": "13581a10-927f-44cc-bfd4-82d1546fe171",
   "metadata": {},
   "source": [
    "- 숫자 특성 목록을 선택하고 단일 열로 묶는 보다 일반적인 전처리기를 정의"
   ]
  },
  {
   "cell_type": "code",
   "execution_count": 22,
   "id": "a12da08b-0e22-428a-a2d1-a4ddd4199c5e",
   "metadata": {},
   "outputs": [],
   "source": [
    "class PackNumericFeatures(object):\n",
    "  def __init__(self, names):\n",
    "    self.names = names\n",
    "\n",
    "  def __call__(self, features, labels):\n",
    "    numeric_features = [features.pop(name) for name in self.names]\n",
    "    numeric_features = [tf.cast(feat, tf.float32) for feat in numeric_features]\n",
    "    numeric_features = tf.stack(numeric_features, axis=-1)\n",
    "    features['numeric'] = numeric_features\n",
    "\n",
    "    return features, labels"
   ]
  },
  {
   "cell_type": "code",
   "execution_count": 23,
   "id": "9d6bb311-070e-4327-9380-e8eeac8c6ffd",
   "metadata": {},
   "outputs": [],
   "source": [
    "NUMERIC_FEATURES = ['age','n_siblings_spouses','parch', 'fare']\n",
    "\n",
    "packed_train_data = raw_train_data.map(\n",
    "    PackNumericFeatures(NUMERIC_FEATURES))\n",
    "\n",
    "packed_test_data = raw_test_data.map(\n",
    "    PackNumericFeatures(NUMERIC_FEATURES))"
   ]
  },
  {
   "cell_type": "code",
   "execution_count": 24,
   "id": "13d2a8f8-ee6b-4ac5-bd22-2fdbe8a343f7",
   "metadata": {},
   "outputs": [
    {
     "name": "stdout",
     "output_type": "stream",
     "text": [
      "sex                 : [b'male' b'female' b'female' b'male' b'male']\n",
      "class               : [b'Third' b'First' b'First' b'Third' b'Third']\n",
      "deck                : [b'unknown' b'B' b'unknown' b'unknown' b'unknown']\n",
      "embark_town         : [b'Southampton' b'Southampton' b'Southampton' b'Southampton'\n",
      " b'Southampton']\n",
      "alone               : [b'y' b'n' b'y' b'n' b'n']\n",
      "numeric             : [[ 28.      0.      0.     56.496]\n",
      " [ 14.      1.      2.    120.   ]\n",
      " [ 22.      0.      0.    151.55 ]\n",
      " [ 28.      1.      0.     15.85 ]\n",
      " [  1.      1.      2.     20.575]]\n"
     ]
    }
   ],
   "source": [
    "show_batch(packed_train_data)"
   ]
  },
  {
   "cell_type": "code",
   "execution_count": 25,
   "id": "a6f4e1bb-676a-48d4-aa22-e1c8a8faa7b8",
   "metadata": {},
   "outputs": [],
   "source": [
    "example_batch, labels_batch = next(iter(packed_train_data))"
   ]
  },
  {
   "cell_type": "markdown",
   "id": "bc6299ba-9f6d-4e07-88b0-960c8bff330a",
   "metadata": {},
   "source": [
    "---\n",
    "\n",
    "#### 데이터 정규화\n",
    "- 연속 데이터는 항상 정규화 되어야 한다!"
   ]
  },
  {
   "cell_type": "code",
   "execution_count": 26,
   "id": "e69d5869-d6ca-494a-8c24-31e420c012fb",
   "metadata": {},
   "outputs": [
    {
     "data": {
      "text/html": [
       "<div>\n",
       "<style scoped>\n",
       "    .dataframe tbody tr th:only-of-type {\n",
       "        vertical-align: middle;\n",
       "    }\n",
       "\n",
       "    .dataframe tbody tr th {\n",
       "        vertical-align: top;\n",
       "    }\n",
       "\n",
       "    .dataframe thead th {\n",
       "        text-align: right;\n",
       "    }\n",
       "</style>\n",
       "<table border=\"1\" class=\"dataframe\">\n",
       "  <thead>\n",
       "    <tr style=\"text-align: right;\">\n",
       "      <th></th>\n",
       "      <th>age</th>\n",
       "      <th>n_siblings_spouses</th>\n",
       "      <th>parch</th>\n",
       "      <th>fare</th>\n",
       "    </tr>\n",
       "  </thead>\n",
       "  <tbody>\n",
       "    <tr>\n",
       "      <th>count</th>\n",
       "      <td>627.000000</td>\n",
       "      <td>627.000000</td>\n",
       "      <td>627.000000</td>\n",
       "      <td>627.000000</td>\n",
       "    </tr>\n",
       "    <tr>\n",
       "      <th>mean</th>\n",
       "      <td>29.631308</td>\n",
       "      <td>0.545455</td>\n",
       "      <td>0.379585</td>\n",
       "      <td>34.385399</td>\n",
       "    </tr>\n",
       "    <tr>\n",
       "      <th>std</th>\n",
       "      <td>12.511818</td>\n",
       "      <td>1.151090</td>\n",
       "      <td>0.792999</td>\n",
       "      <td>54.597730</td>\n",
       "    </tr>\n",
       "    <tr>\n",
       "      <th>min</th>\n",
       "      <td>0.750000</td>\n",
       "      <td>0.000000</td>\n",
       "      <td>0.000000</td>\n",
       "      <td>0.000000</td>\n",
       "    </tr>\n",
       "    <tr>\n",
       "      <th>25%</th>\n",
       "      <td>23.000000</td>\n",
       "      <td>0.000000</td>\n",
       "      <td>0.000000</td>\n",
       "      <td>7.895800</td>\n",
       "    </tr>\n",
       "    <tr>\n",
       "      <th>50%</th>\n",
       "      <td>28.000000</td>\n",
       "      <td>0.000000</td>\n",
       "      <td>0.000000</td>\n",
       "      <td>15.045800</td>\n",
       "    </tr>\n",
       "    <tr>\n",
       "      <th>75%</th>\n",
       "      <td>35.000000</td>\n",
       "      <td>1.000000</td>\n",
       "      <td>0.000000</td>\n",
       "      <td>31.387500</td>\n",
       "    </tr>\n",
       "    <tr>\n",
       "      <th>max</th>\n",
       "      <td>80.000000</td>\n",
       "      <td>8.000000</td>\n",
       "      <td>5.000000</td>\n",
       "      <td>512.329200</td>\n",
       "    </tr>\n",
       "  </tbody>\n",
       "</table>\n",
       "</div>"
      ],
      "text/plain": [
       "              age  n_siblings_spouses       parch        fare\n",
       "count  627.000000          627.000000  627.000000  627.000000\n",
       "mean    29.631308            0.545455    0.379585   34.385399\n",
       "std     12.511818            1.151090    0.792999   54.597730\n",
       "min      0.750000            0.000000    0.000000    0.000000\n",
       "25%     23.000000            0.000000    0.000000    7.895800\n",
       "50%     28.000000            0.000000    0.000000   15.045800\n",
       "75%     35.000000            1.000000    0.000000   31.387500\n",
       "max     80.000000            8.000000    5.000000  512.329200"
      ]
     },
     "execution_count": 26,
     "metadata": {},
     "output_type": "execute_result"
    }
   ],
   "source": [
    "import pandas as pd\n",
    "desc = pd.read_csv(train_file_path)[NUMERIC_FEATURES].describe()\n",
    "desc"
   ]
  },
  {
   "cell_type": "code",
   "execution_count": 27,
   "id": "5ba4e93c-a794-422d-9d4a-704de271bd28",
   "metadata": {},
   "outputs": [],
   "source": [
    "MEAN = np.array(desc.T['mean'])\n",
    "STD = np.array(desc.T['std'])"
   ]
  },
  {
   "cell_type": "code",
   "execution_count": 28,
   "id": "d80116e8-3dcb-4d66-a013-b820afc487b5",
   "metadata": {},
   "outputs": [],
   "source": [
    "def normalize_numeric_data(data, mean, std):\n",
    "  # Center the data\n",
    "  return (data-mean)/std"
   ]
  },
  {
   "cell_type": "markdown",
   "id": "407a19fb-8c35-4587-ba66-cc274b825ada",
   "metadata": {},
   "source": [
    "- 숫자 열 생성, `tf.feature_columns.numeric_column` API는 각 배치에서 실행될 `normalizer_fn` 인수를 허용\n",
    "- `functools.partial`를 사용하여 MEAN 및 STD를 노멀라이저 fn에 바인딩한다."
   ]
  },
  {
   "cell_type": "code",
   "execution_count": 29,
   "id": "c0ee30ec-a00f-46e7-ab78-36711b4bcc4c",
   "metadata": {},
   "outputs": [
    {
     "data": {
      "text/plain": [
       "NumericColumn(key='numeric', shape=(4,), default_value=None, dtype=tf.float32, normalizer_fn=functools.partial(<function normalize_numeric_data at 0x118005820>, mean=array([29.631,  0.545,  0.38 , 34.385]), std=array([12.512,  1.151,  0.793, 54.598])))"
      ]
     },
     "execution_count": 29,
     "metadata": {},
     "output_type": "execute_result"
    }
   ],
   "source": [
    "# See what you just created.\n",
    "normalizer = functools.partial(normalize_numeric_data, mean=MEAN, std=STD)\n",
    "\n",
    "numeric_column = tf.feature_column.numeric_column('numeric', normalizer_fn=normalizer, shape=[len(NUMERIC_FEATURES)])\n",
    "numeric_columns = [numeric_column]\n",
    "numeric_column"
   ]
  },
  {
   "cell_type": "markdown",
   "id": "0300ddb4-b04e-42be-889f-9509398550da",
   "metadata": {},
   "source": [
    "- 모델을 훈련할 때 이 특성 열을 포함하여 이 숫자 데이터 블록을 선택하고 중앙에 배치"
   ]
  },
  {
   "cell_type": "code",
   "execution_count": 30,
   "id": "aa69ec45-17bb-4b52-9266-48fd6d2d4626",
   "metadata": {},
   "outputs": [
    {
     "data": {
      "text/plain": [
       "<tf.Tensor: shape=(5, 4), dtype=float32, numpy=\n",
       "array([[28.   ,  8.   ,  2.   , 69.55 ],\n",
       "       [27.   ,  1.   ,  0.   , 13.858],\n",
       "       [ 3.   ,  1.   ,  1.   , 18.75 ],\n",
       "       [28.   ,  0.   ,  0.   ,  7.229],\n",
       "       [45.   ,  0.   ,  0.   , 26.55 ]], dtype=float32)>"
      ]
     },
     "execution_count": 30,
     "metadata": {},
     "output_type": "execute_result"
    }
   ],
   "source": [
    "example_batch['numeric']"
   ]
  },
  {
   "cell_type": "code",
   "execution_count": 31,
   "id": "829d0584-0d9d-4912-a156-e6119b476307",
   "metadata": {},
   "outputs": [
    {
     "data": {
      "text/plain": [
       "array([[-0.13 ,  6.476,  2.043,  0.644],\n",
       "       [-0.21 ,  0.395, -0.479, -0.376],\n",
       "       [-2.128,  0.395,  0.782, -0.286],\n",
       "       [-0.13 , -0.474, -0.479, -0.497],\n",
       "       [ 1.228, -0.474, -0.479, -0.144]], dtype=float32)"
      ]
     },
     "execution_count": 31,
     "metadata": {},
     "output_type": "execute_result"
    }
   ],
   "source": [
    "numeric_layer = tf.keras.layers.DenseFeatures(numeric_columns)\n",
    "numeric_layer(example_batch).numpy()"
   ]
  },
  {
   "cell_type": "markdown",
   "id": "6ea94dc1-7bed-4ca5-b0ad-8d3f79be55ee",
   "metadata": {},
   "source": [
    "- 평균 기반 정규화를 위해서는 각 열의 평균을 미리 알아야 한다."
   ]
  },
  {
   "cell_type": "markdown",
   "id": "ede7542f-bec0-4c59-9b51-e9031c23c48c",
   "metadata": {},
   "source": [
    "---\n",
    "\n",
    "#### 범주형 데이터\n",
    "- `tf.feature_column` API를 사용하여 각 범주 열에 대해 `tf.feature_column.indicator_column`을 가진 모음을 작성"
   ]
  },
  {
   "cell_type": "code",
   "execution_count": 32,
   "id": "60542854-eae3-4427-b674-aa7399aaa259",
   "metadata": {},
   "outputs": [],
   "source": [
    "CATEGORIES = {\n",
    "    'sex': ['male', 'female'],\n",
    "    'class' : ['First', 'Second', 'Third'],\n",
    "    'deck' : ['A', 'B', 'C', 'D', 'E', 'F', 'G', 'H', 'I', 'J'],\n",
    "    'embark_town' : ['Cherbourg', 'Southhampton', 'Queenstown'],\n",
    "    'alone' : ['y', 'n']\n",
    "}"
   ]
  },
  {
   "cell_type": "code",
   "execution_count": 33,
   "id": "c4b82437-7b3d-41af-81bc-450dbf42793b",
   "metadata": {},
   "outputs": [],
   "source": [
    "categorical_columns = []\n",
    "for feature, vocab in CATEGORIES.items():\n",
    "  cat_col = tf.feature_column.categorical_column_with_vocabulary_list(\n",
    "        key=feature, vocabulary_list=vocab)\n",
    "  categorical_columns.append(tf.feature_column.indicator_column(cat_col))"
   ]
  },
  {
   "cell_type": "code",
   "execution_count": 34,
   "id": "eddac1d5-28bb-4f2e-90af-02a1d473fb0e",
   "metadata": {},
   "outputs": [
    {
     "data": {
      "text/plain": [
       "[IndicatorColumn(categorical_column=VocabularyListCategoricalColumn(key='sex', vocabulary_list=('male', 'female'), dtype=tf.string, default_value=-1, num_oov_buckets=0)),\n",
       " IndicatorColumn(categorical_column=VocabularyListCategoricalColumn(key='class', vocabulary_list=('First', 'Second', 'Third'), dtype=tf.string, default_value=-1, num_oov_buckets=0)),\n",
       " IndicatorColumn(categorical_column=VocabularyListCategoricalColumn(key='deck', vocabulary_list=('A', 'B', 'C', 'D', 'E', 'F', 'G', 'H', 'I', 'J'), dtype=tf.string, default_value=-1, num_oov_buckets=0)),\n",
       " IndicatorColumn(categorical_column=VocabularyListCategoricalColumn(key='embark_town', vocabulary_list=('Cherbourg', 'Southhampton', 'Queenstown'), dtype=tf.string, default_value=-1, num_oov_buckets=0)),\n",
       " IndicatorColumn(categorical_column=VocabularyListCategoricalColumn(key='alone', vocabulary_list=('y', 'n'), dtype=tf.string, default_value=-1, num_oov_buckets=0))]"
      ]
     },
     "execution_count": 34,
     "metadata": {},
     "output_type": "execute_result"
    }
   ],
   "source": [
    "# See what you just created.\n",
    "categorical_columns"
   ]
  },
  {
   "cell_type": "code",
   "execution_count": 35,
   "id": "dfa56ce8-92b9-42eb-913d-364d178ecef1",
   "metadata": {},
   "outputs": [
    {
     "name": "stdout",
     "output_type": "stream",
     "text": [
      "[0. 1. 0. 0. 1. 0. 0. 0. 0. 0. 0. 0. 0. 0. 0. 0. 0. 0. 0. 1.]\n"
     ]
    }
   ],
   "source": [
    "categorical_layer = tf.keras.layers.DenseFeatures(categorical_columns)\n",
    "print(categorical_layer(example_batch).numpy()[0])"
   ]
  },
  {
   "cell_type": "markdown",
   "id": "d1421cab-54f5-4a5e-a717-f30471e09d57",
   "metadata": {},
   "source": [
    "- 이것은 나중에 모델을 빌드할 때 데이터 처리 입력의 일부가 된다.\n",
    "\n",
    "---\n",
    "\n",
    "#### 결합된 전처리 레이어\n",
    "- 두 개의 특성 열 모음을 추가하고 `tf.keras.layers.DenseFeatures`에 전달하여 두 입력 유형을 추출하고 전처리할 입력 레이어를 만든다."
   ]
  },
  {
   "cell_type": "code",
   "execution_count": 36,
   "id": "05302942-5982-4732-918b-cb4a14d1b4ca",
   "metadata": {},
   "outputs": [],
   "source": [
    "preprocessing_layer = tf.keras.layers.DenseFeatures(categorical_columns+numeric_columns)"
   ]
  },
  {
   "cell_type": "code",
   "execution_count": 37,
   "id": "d91953ea-3073-4f08-b9cc-23ca0ae04aa7",
   "metadata": {},
   "outputs": [
    {
     "name": "stdout",
     "output_type": "stream",
     "text": [
      "[ 0.     1.     0.     0.     1.     0.     0.     0.     0.     0.\n",
      "  0.     0.     0.     0.     0.     0.     0.     0.    -0.13   6.476\n",
      "  2.043  0.644  0.     1.   ]\n"
     ]
    }
   ],
   "source": [
    "print(preprocessing_layer(example_batch).numpy()[0])"
   ]
  },
  {
   "cell_type": "markdown",
   "id": "8842bcd1-6d96-4c0a-8089-a3173f85cc89",
   "metadata": {},
   "source": [
    "---\n",
    "\n",
    "### 모델 빌드하기\n",
    "- `preprocessing_layer`를 사용하여 `tf.keras.Sequential`를 빌드"
   ]
  },
  {
   "cell_type": "code",
   "execution_count": 38,
   "id": "3ae09a6d-bd72-4b59-b288-654b4f80fe1b",
   "metadata": {},
   "outputs": [],
   "source": [
    "model = tf.keras.Sequential([\n",
    "  preprocessing_layer,\n",
    "  tf.keras.layers.Dense(128, activation='relu'),\n",
    "  tf.keras.layers.Dense(128, activation='relu'),\n",
    "  tf.keras.layers.Dense(1),\n",
    "])\n",
    "\n",
    "model.compile(\n",
    "    loss=tf.keras.losses.BinaryCrossentropy(from_logits=True),\n",
    "    optimizer='adam',\n",
    "    metrics=['accuracy'])"
   ]
  },
  {
   "cell_type": "markdown",
   "id": "94f37c5f-b869-47f3-a445-7f36cff4f67a",
   "metadata": {},
   "source": [
    "---\n",
    "\n",
    "### 훈련, 평가 및 예측하기"
   ]
  },
  {
   "cell_type": "code",
   "execution_count": 39,
   "id": "b89ee7f0-91b8-4cfd-97ec-aa204e4e88e4",
   "metadata": {},
   "outputs": [],
   "source": [
    "train_data = packed_train_data.shuffle(500)\n",
    "test_data = packed_test_data"
   ]
  },
  {
   "cell_type": "code",
   "execution_count": 40,
   "id": "7b171712-1ba0-4c1f-af0c-f846bfac8f5e",
   "metadata": {},
   "outputs": [
    {
     "name": "stdout",
     "output_type": "stream",
     "text": [
      "Epoch 1/20\n",
      "WARNING:tensorflow:Layers in a Sequential model should only have a single input tensor, but we receive a <class 'collections.OrderedDict'> input: OrderedDict([('sex', <tf.Tensor 'IteratorGetNext:5' shape=(None,) dtype=string>), ('class', <tf.Tensor 'IteratorGetNext:1' shape=(None,) dtype=string>), ('deck', <tf.Tensor 'IteratorGetNext:2' shape=(None,) dtype=string>), ('embark_town', <tf.Tensor 'IteratorGetNext:3' shape=(None,) dtype=string>), ('alone', <tf.Tensor 'IteratorGetNext:0' shape=(None,) dtype=string>), ('numeric', <tf.Tensor 'IteratorGetNext:4' shape=(None, 4) dtype=float32>)])\n",
      "Consider rewriting this model with the Functional API.\n",
      "WARNING:tensorflow:Layers in a Sequential model should only have a single input tensor, but we receive a <class 'collections.OrderedDict'> input: OrderedDict([('sex', <tf.Tensor 'IteratorGetNext:5' shape=(None,) dtype=string>), ('class', <tf.Tensor 'IteratorGetNext:1' shape=(None,) dtype=string>), ('deck', <tf.Tensor 'IteratorGetNext:2' shape=(None,) dtype=string>), ('embark_town', <tf.Tensor 'IteratorGetNext:3' shape=(None,) dtype=string>), ('alone', <tf.Tensor 'IteratorGetNext:0' shape=(None,) dtype=string>), ('numeric', <tf.Tensor 'IteratorGetNext:4' shape=(None, 4) dtype=float32>)])\n",
      "Consider rewriting this model with the Functional API.\n"
     ]
    },
    {
     "name": "stderr",
     "output_type": "stream",
     "text": [
      "2022-04-12 10:43:53.153963: I tensorflow/core/grappler/optimizers/custom_graph_optimizer_registry.cc:112] Plugin optimizer for device_type GPU is enabled.\n"
     ]
    },
    {
     "name": "stdout",
     "output_type": "stream",
     "text": [
      "126/126 [==============================] - 3s 15ms/step - loss: 0.5090 - accuracy: 0.7496\n",
      "Epoch 2/20\n",
      "126/126 [==============================] - 1s 10ms/step - loss: 0.4149 - accuracy: 0.8150\n",
      "Epoch 3/20\n",
      "126/126 [==============================] - 1s 10ms/step - loss: 0.4010 - accuracy: 0.8150\n",
      "Epoch 4/20\n",
      "126/126 [==============================] - 1s 10ms/step - loss: 0.3899 - accuracy: 0.8357\n",
      "Epoch 5/20\n",
      "126/126 [==============================] - 1s 10ms/step - loss: 0.3810 - accuracy: 0.8437\n",
      "Epoch 6/20\n",
      "126/126 [==============================] - 1s 11ms/step - loss: 0.3684 - accuracy: 0.8437\n",
      "Epoch 7/20\n",
      "126/126 [==============================] - 1s 10ms/step - loss: 0.3652 - accuracy: 0.8421\n",
      "Epoch 8/20\n",
      "126/126 [==============================] - 1s 11ms/step - loss: 0.3569 - accuracy: 0.8485\n",
      "Epoch 9/20\n",
      "126/126 [==============================] - 1s 10ms/step - loss: 0.3467 - accuracy: 0.8437\n",
      "Epoch 10/20\n",
      "126/126 [==============================] - 1s 11ms/step - loss: 0.3493 - accuracy: 0.8501\n",
      "Epoch 11/20\n",
      "126/126 [==============================] - 1s 11ms/step - loss: 0.3417 - accuracy: 0.8517\n",
      "Epoch 12/20\n",
      "126/126 [==============================] - 1s 11ms/step - loss: 0.3426 - accuracy: 0.8549\n",
      "Epoch 13/20\n",
      "126/126 [==============================] - 1s 10ms/step - loss: 0.3425 - accuracy: 0.8533\n",
      "Epoch 14/20\n",
      "126/126 [==============================] - 1s 11ms/step - loss: 0.3280 - accuracy: 0.8533\n",
      "Epoch 15/20\n",
      "126/126 [==============================] - 1s 11ms/step - loss: 0.3337 - accuracy: 0.8485\n",
      "Epoch 16/20\n",
      "126/126 [==============================] - 1s 10ms/step - loss: 0.3251 - accuracy: 0.8549\n",
      "Epoch 17/20\n",
      "126/126 [==============================] - 1s 11ms/step - loss: 0.3142 - accuracy: 0.8628\n",
      "Epoch 18/20\n",
      "126/126 [==============================] - 1s 10ms/step - loss: 0.3155 - accuracy: 0.8692\n",
      "Epoch 19/20\n",
      "126/126 [==============================] - 1s 10ms/step - loss: 0.3150 - accuracy: 0.8596\n",
      "Epoch 20/20\n",
      "126/126 [==============================] - 1s 10ms/step - loss: 0.3092 - accuracy: 0.8581\n"
     ]
    },
    {
     "data": {
      "text/plain": [
       "<keras.callbacks.History at 0x128114dc0>"
      ]
     },
     "execution_count": 40,
     "metadata": {},
     "output_type": "execute_result"
    }
   ],
   "source": [
    "model.fit(train_data, epochs=20)"
   ]
  },
  {
   "cell_type": "markdown",
   "id": "65c84b67-ec69-4309-86aa-a0b0bf19d401",
   "metadata": {},
   "source": [
    "- test_data 세트에서 정확성을 확인"
   ]
  },
  {
   "cell_type": "code",
   "execution_count": 41,
   "id": "e259ebf0-6c21-4c42-8ea0-4895685fab3d",
   "metadata": {},
   "outputs": [
    {
     "name": "stdout",
     "output_type": "stream",
     "text": [
      "WARNING:tensorflow:Layers in a Sequential model should only have a single input tensor, but we receive a <class 'collections.OrderedDict'> input: OrderedDict([('sex', <tf.Tensor 'IteratorGetNext:5' shape=(None,) dtype=string>), ('class', <tf.Tensor 'IteratorGetNext:1' shape=(None,) dtype=string>), ('deck', <tf.Tensor 'IteratorGetNext:2' shape=(None,) dtype=string>), ('embark_town', <tf.Tensor 'IteratorGetNext:3' shape=(None,) dtype=string>), ('alone', <tf.Tensor 'IteratorGetNext:0' shape=(None,) dtype=string>), ('numeric', <tf.Tensor 'IteratorGetNext:4' shape=(None, 4) dtype=float32>)])\n",
      "Consider rewriting this model with the Functional API.\n",
      "     13/Unknown - 0s 9ms/step - loss: 0.4892 - accuracy: 0.8154 "
     ]
    },
    {
     "name": "stderr",
     "output_type": "stream",
     "text": [
      "2022-04-12 10:44:50.637899: I tensorflow/core/grappler/optimizers/custom_graph_optimizer_registry.cc:112] Plugin optimizer for device_type GPU is enabled.\n"
     ]
    },
    {
     "name": "stdout",
     "output_type": "stream",
     "text": [
      "53/53 [==============================] - 1s 11ms/step - loss: 0.4432 - accuracy: 0.8561\n",
      "\n",
      "\n",
      "Test Loss 0.4431551396846771, Test Accuracy 0.8560606241226196\n"
     ]
    }
   ],
   "source": [
    "test_loss, test_accuracy = model.evaluate(test_data)\n",
    "\n",
    "print('\\n\\nTest Loss {}, Test Accuracy {}'.format(test_loss, test_accuracy))"
   ]
  },
  {
   "cell_type": "markdown",
   "id": "70c6d8a7-b320-4515-855b-9d4268aa22ab",
   "metadata": {},
   "source": [
    "- `tf.keras.Model.predict`를 사용하여 배치 또는 배치 데이터세트에서 레이블을 유추"
   ]
  },
  {
   "cell_type": "code",
   "execution_count": 42,
   "id": "a2bf78d8-239a-49eb-bf39-f032f541eee1",
   "metadata": {},
   "outputs": [
    {
     "name": "stdout",
     "output_type": "stream",
     "text": [
      "WARNING:tensorflow:Layers in a Sequential model should only have a single input tensor, but we receive a <class 'collections.OrderedDict'> input: OrderedDict([('sex', <tf.Tensor 'IteratorGetNext:5' shape=(None,) dtype=string>), ('class', <tf.Tensor 'IteratorGetNext:1' shape=(None,) dtype=string>), ('deck', <tf.Tensor 'IteratorGetNext:2' shape=(None,) dtype=string>), ('embark_town', <tf.Tensor 'IteratorGetNext:3' shape=(None,) dtype=string>), ('alone', <tf.Tensor 'IteratorGetNext:0' shape=(None,) dtype=string>), ('numeric', <tf.Tensor 'IteratorGetNext:4' shape=(None, 4) dtype=float32>)])\n",
      "Consider rewriting this model with the Functional API.\n"
     ]
    },
    {
     "name": "stderr",
     "output_type": "stream",
     "text": [
      "2022-04-12 10:45:37.936242: I tensorflow/core/grappler/optimizers/custom_graph_optimizer_registry.cc:112] Plugin optimizer for device_type GPU is enabled.\n"
     ]
    },
    {
     "name": "stdout",
     "output_type": "stream",
     "text": [
      "Predicted survival: 34.75%  | Actual outcome:  DIED\n",
      "Predicted survival: 83.02%  | Actual outcome:  DIED\n",
      "Predicted survival: 70.49%  | Actual outcome:  DIED\n",
      "Predicted survival: 13.66%  | Actual outcome:  SURVIVED\n",
      "Predicted survival: 78.98%  | Actual outcome:  SURVIVED\n"
     ]
    }
   ],
   "source": [
    "predictions = model.predict(test_data)\n",
    "\n",
    "# Show some results\n",
    "for prediction, survived in zip(predictions[:10], list(test_data)[0][1][:10]):\n",
    "  prediction = tf.sigmoid(prediction).numpy()\n",
    "  print(\"Predicted survival: {:.2%}\".format(prediction[0]),\n",
    "        \" | Actual outcome: \",\n",
    "        (\"SURVIVED\" if bool(survived) else \"DIED\"))"
   ]
  },
  {
   "cell_type": "code",
   "execution_count": null,
   "id": "63bb54bf-4b43-489f-a54d-1a6a49e51f89",
   "metadata": {},
   "outputs": [],
   "source": []
  }
 ],
 "metadata": {
  "kernelspec": {
   "display_name": "Python 3 (ipykernel)",
   "language": "python",
   "name": "python3"
  },
  "language_info": {
   "codemirror_mode": {
    "name": "ipython",
    "version": 3
   },
   "file_extension": ".py",
   "mimetype": "text/x-python",
   "name": "python",
   "nbconvert_exporter": "python",
   "pygments_lexer": "ipython3",
   "version": "3.9.9"
  }
 },
 "nbformat": 4,
 "nbformat_minor": 5
}
