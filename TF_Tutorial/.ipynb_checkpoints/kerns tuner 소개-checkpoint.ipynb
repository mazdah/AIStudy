{
 "cells": [
  {
   "cell_type": "markdown",
   "id": "5664d5cd-6ab8-47d3-8c48-5c8b3b1fc72d",
   "metadata": {},
   "source": [
    "# Keras Tuner\n",
    "- 최적의 Hyperparameter 세트 선택에 도움을 주는 라이이브러리\n",
    "- Hyperparameter는 훈련 프로세스 및 모델의 토폴로지를 제어하는 변수\n",
    "- Hyperparameter의 두 종류\n",
    "    1. 숨겨진 레이어 수 및 너비와 같이 모델 선택에 영향을 주는 모델 하이퍼파라미터\n",
    "    2. SDG(Stochastic Gradient Descent)의 학습률 및 KNN(K Nearest Neighbors) 분류자의 최근접 이웃 수와 같은 학습 알고리즘의 속도와 품질에 영향을 주는 알고리즘 하이퍼파라미터\n",
    "    \n",
    "---    \n",
    "    \n",
    "### 설정"
   ]
  },
  {
   "cell_type": "code",
   "execution_count": 1,
   "id": "e3ebaeb2-7252-4808-880b-3acac5c55ae0",
   "metadata": {},
   "outputs": [],
   "source": [
    "import tensorflow as tf\n",
    "from tensorflow import keras\n",
    "\n",
    "import IPython"
   ]
  },
  {
   "cell_type": "markdown",
   "id": "45181a0f-5d3e-4b1b-8136-c161c3f10f2f",
   "metadata": {},
   "source": [
    "- keras tuner 설치 및 import"
   ]
  },
  {
   "cell_type": "code",
   "execution_count": 2,
   "id": "ec6dc3bf-1e37-41e6-8c39-0eeb1ccdc093",
   "metadata": {},
   "outputs": [],
   "source": [
    "!pip install -q -U keras-tuner\n",
    "import keras_tuner as kt"
   ]
  },
  {
   "cell_type": "markdown",
   "id": "7f12a1b1-594b-43fb-907d-ef38ec240131",
   "metadata": {},
   "source": [
    "---\n",
    "\n",
    "### 데이터세트 다운로드 및 준비\n",
    "- Fashion MNIST를 대상으로 최적 하이퍼파라미터 찾기"
   ]
  },
  {
   "cell_type": "code",
   "execution_count": 3,
   "id": "c979bb20-4fec-445a-a228-599d77123121",
   "metadata": {},
   "outputs": [],
   "source": [
    "# 데이터 로드\n",
    "(img_train, label_train), (img_test, label_test) = keras.datasets.fashion_mnist.load_data()"
   ]
  },
  {
   "cell_type": "code",
   "execution_count": 4,
   "id": "eeea6778-69df-4934-9332-8f0a62409eb9",
   "metadata": {},
   "outputs": [],
   "source": [
    "# Normalize pixel values between 0 and 1\n",
    "img_train = img_train.astype('float32') / 255.0\n",
    "img_test = img_test.astype('float32') / 255.0"
   ]
  },
  {
   "cell_type": "markdown",
   "id": "76b969ee-e196-46d5-9a5e-821b3e11bd33",
   "metadata": {},
   "source": [
    "---\n",
    "\n",
    "### 모델 정의하기\n",
    "- 하이퍼튜닝을 위한 모델(하이퍼 모델)을 빌드할 때는 모델 아키텍처와 더불어 하이퍼파라미터 검색 공간도 정의\n",
    "- 하이퍼 모델을 정의하는 두 가지 접근 방법\n",
    "    1. 모델 빌더 함수 사용\n",
    "    2. Keras Tuner API의 HyperModel 클래스를 상속\n",
    "\n",
    "- 두 개의 사전 정의된 HyperModel인 HyperXception과 HyperResNet을 사용 가능하다.\n",
    "- 모델 빌더를 사용하여 모델 정의"
   ]
  },
  {
   "cell_type": "code",
   "execution_count": 5,
   "id": "ae251636-7d96-4f16-a8d4-e1bc95615ee0",
   "metadata": {},
   "outputs": [],
   "source": [
    "def model_builder(hp):\n",
    "  model = keras.Sequential()\n",
    "  model.add(keras.layers.Flatten(input_shape=(28, 28)))\n",
    "\n",
    "  # Tune the number of units in the first Dense layer\n",
    "  # Choose an optimal value between 32-512\n",
    "  hp_units = hp.Int('units', min_value = 32, max_value = 512, step = 32)\n",
    "  model.add(keras.layers.Dense(units = hp_units, activation = 'relu'))\n",
    "  model.add(keras.layers.Dense(10))\n",
    "\n",
    "  # Tune the learning rate for the optimizer \n",
    "  # Choose an optimal value from 0.01, 0.001, or 0.0001\n",
    "  hp_learning_rate = hp.Choice('learning_rate', values = [1e-2, 1e-3, 1e-4]) \n",
    "\n",
    "  model.compile(optimizer = keras.optimizers.Adam(learning_rate = hp_learning_rate),\n",
    "                loss = keras.losses.SparseCategoricalCrossentropy(from_logits = True), \n",
    "                metrics = ['accuracy'])\n",
    "\n",
    "  return model"
   ]
  },
  {
   "cell_type": "markdown",
   "id": "65df96cd-6344-4f19-bde1-6d95ab9ced18",
   "metadata": {},
   "source": [
    "---\n",
    "\n",
    "### 튜너를 인스턴스화 하고 하이퍼튜닝 수행하기\n",
    "- Keras Tuner의 4가지 튜너\n",
    "    - RandomSearch\n",
    "    - Hyperband\n",
    "    - BayesianOptimization\n",
    "    - Sklearn\n",
    "- Hyperband 사용 시 최적화 할 하이퍼모델인 objective와 훈현할 최대 epoch 수(max_epochs)를 지정해야 한다.\n",
    "- Hyperband 튜닝 알고리즘은 적응형 리소스 할당 및 조기중단을 사용하여 고성능 모델에서 신속하게 수렴한다.\n",
    "\n",
    "> 스포츠 챔피언십 스타일 브래킷 :  \n",
    "> 몇 개의 epoch에 대해 많은 수의 모델을 훈련하고 최고 성능을 보이는 절반만 다음 단계로 넘깁니다.  \n",
    "> Hyperband는 1 + log<sub>factor</sub>( max_epochs)를 계산하고 이를 가장 가까운 정수로 반올림하여  \n",
    "> 한 브래킷에서 훈련할 모델 수를 결정"
   ]
  },
  {
   "cell_type": "code",
   "execution_count": 6,
   "id": "744bc790-abfc-4120-b05b-27948221ccd0",
   "metadata": {},
   "outputs": [
    {
     "name": "stdout",
     "output_type": "stream",
     "text": [
      "INFO:tensorflow:Reloading Oracle from existing project my_dir/intro_to_kt/oracle.json\n",
      "Metal device set to: Apple M1\n",
      "INFO:tensorflow:Reloading Tuner from my_dir/intro_to_kt/tuner0.json\n"
     ]
    },
    {
     "name": "stderr",
     "output_type": "stream",
     "text": [
      "2022-04-06 11:16:18.976443: I tensorflow/core/common_runtime/pluggable_device/pluggable_device_factory.cc:305] Could not identify NUMA node of platform GPU ID 0, defaulting to 0. Your kernel may not have been built with NUMA support.\n",
      "2022-04-06 11:16:18.976599: I tensorflow/core/common_runtime/pluggable_device/pluggable_device_factory.cc:271] Created TensorFlow device (/job:localhost/replica:0/task:0/device:GPU:0 with 0 MB memory) -> physical PluggableDevice (device: 0, name: METAL, pci bus id: <undefined>)\n"
     ]
    }
   ],
   "source": [
    "tuner = kt.Hyperband(model_builder,\n",
    "                     objective = 'val_accuracy', \n",
    "                     max_epochs = 10,\n",
    "                     factor = 3,\n",
    "                     directory = 'my_dir',\n",
    "                     project_name = 'intro_to_kt')"
   ]
  },
  {
   "cell_type": "markdown",
   "id": "abd134b0-69c5-40ed-a567-4bfbe14818d8",
   "metadata": {},
   "source": [
    "- 하이퍼파라미터 검색을 실행하기 전에 훈련 단계가 끝날 때마다 훈련 결과를 지우도록 콜백을 정의"
   ]
  },
  {
   "cell_type": "code",
   "execution_count": 7,
   "id": "74e5d7bc-05f5-4e68-9814-78d046cebb78",
   "metadata": {},
   "outputs": [],
   "source": [
    "class ClearTrainingOutput(tf.keras.callbacks.Callback):\n",
    "  def on_train_end(*args, **kwargs):\n",
    "    IPython.display.clear_output(wait = True)"
   ]
  },
  {
   "cell_type": "markdown",
   "id": "3fe7f08f-a808-49da-acec-dddefe588762",
   "metadata": {},
   "source": [
    "- 하이퍼파라미터 검색을 실행. 검색 메서드의 인수는 위의 콜백 외에 tf.keras.model.fit에 사용되는 인수와 같다."
   ]
  },
  {
   "cell_type": "code",
   "execution_count": 8,
   "id": "bc00e116-10d6-45ea-9c2f-74ca289d76a4",
   "metadata": {},
   "outputs": [
    {
     "name": "stdout",
     "output_type": "stream",
     "text": [
      "Trial 30 Complete [00h 01m 16s]\n",
      "val_accuracy: 0.8568000197410583\n",
      "\n",
      "Best val_accuracy So Far: 0.8844000697135925\n",
      "Total elapsed time: 00h 03m 52s\n",
      "INFO:tensorflow:Oracle triggered exit\n",
      "\n",
      "The hyperparameter search is complete. The optimal number of units in the first densely-connected\n",
      "layer is 352 and the optimal learning rate for the optimizer\n",
      "is 0.001.\n",
      "\n"
     ]
    }
   ],
   "source": [
    "tuner.search(img_train, label_train, epochs = 10, validation_data = (img_test, label_test), callbacks = [ClearTrainingOutput()])\n",
    "\n",
    "# Get the optimal hyperparameters\n",
    "best_hps = tuner.get_best_hyperparameters(num_trials = 1)[0]\n",
    "\n",
    "print(f\"\"\"\n",
    "The hyperparameter search is complete. The optimal number of units in the first densely-connected\n",
    "layer is {best_hps.get('units')} and the optimal learning rate for the optimizer\n",
    "is {best_hps.get('learning_rate')}.\n",
    "\"\"\")"
   ]
  },
  {
   "cell_type": "markdown",
   "id": "924871e2-2bc3-4fcb-8d91-8e5eec87ea24",
   "metadata": {},
   "source": [
    "- 최적의 파라미터로 모델을 재훈련"
   ]
  },
  {
   "cell_type": "code",
   "execution_count": 9,
   "id": "4f329132-5390-4f39-96f4-dd54056a4849",
   "metadata": {},
   "outputs": [
    {
     "name": "stdout",
     "output_type": "stream",
     "text": [
      "Epoch 1/10\n",
      "  28/1875 [..............................] - ETA: 6s - loss: 1.1810 - accuracy: 0.6038"
     ]
    },
    {
     "name": "stderr",
     "output_type": "stream",
     "text": [
      "2022-04-06 13:01:26.549258: I tensorflow/core/grappler/optimizers/custom_graph_optimizer_registry.cc:112] Plugin optimizer for device_type GPU is enabled.\n"
     ]
    },
    {
     "name": "stdout",
     "output_type": "stream",
     "text": [
      "1867/1875 [============================>.] - ETA: 0s - loss: 0.4797 - accuracy: 0.8301"
     ]
    },
    {
     "name": "stderr",
     "output_type": "stream",
     "text": [
      "2022-04-06 13:01:33.487759: I tensorflow/core/grappler/optimizers/custom_graph_optimizer_registry.cc:112] Plugin optimizer for device_type GPU is enabled.\n"
     ]
    },
    {
     "name": "stdout",
     "output_type": "stream",
     "text": [
      "1875/1875 [==============================] - 8s 4ms/step - loss: 0.4797 - accuracy: 0.8302 - val_loss: 0.4088 - val_accuracy: 0.8507\n",
      "Epoch 2/10\n",
      "1875/1875 [==============================] - 8s 4ms/step - loss: 0.3600 - accuracy: 0.8691 - val_loss: 0.3960 - val_accuracy: 0.8572\n",
      "Epoch 3/10\n",
      "1875/1875 [==============================] - 8s 4ms/step - loss: 0.3236 - accuracy: 0.8802 - val_loss: 0.3817 - val_accuracy: 0.8639\n",
      "Epoch 4/10\n",
      "1875/1875 [==============================] - 8s 4ms/step - loss: 0.2986 - accuracy: 0.8898 - val_loss: 0.3820 - val_accuracy: 0.8655\n",
      "Epoch 5/10\n",
      "1875/1875 [==============================] - 8s 4ms/step - loss: 0.2807 - accuracy: 0.8961 - val_loss: 0.3409 - val_accuracy: 0.8764\n",
      "Epoch 6/10\n",
      "1875/1875 [==============================] - 8s 4ms/step - loss: 0.2658 - accuracy: 0.9005 - val_loss: 0.3376 - val_accuracy: 0.8792\n",
      "Epoch 7/10\n",
      "1875/1875 [==============================] - 8s 4ms/step - loss: 0.2539 - accuracy: 0.9058 - val_loss: 0.3565 - val_accuracy: 0.8725\n",
      "Epoch 8/10\n",
      "1875/1875 [==============================] - 8s 4ms/step - loss: 0.2438 - accuracy: 0.9081 - val_loss: 0.3765 - val_accuracy: 0.8732\n",
      "Epoch 9/10\n",
      "1875/1875 [==============================] - 8s 4ms/step - loss: 0.2313 - accuracy: 0.9122 - val_loss: 0.3257 - val_accuracy: 0.8855\n",
      "Epoch 10/10\n",
      "1875/1875 [==============================] - 8s 4ms/step - loss: 0.2236 - accuracy: 0.9162 - val_loss: 0.3377 - val_accuracy: 0.8849\n"
     ]
    },
    {
     "data": {
      "text/plain": [
       "<keras.callbacks.History at 0x1742dc310>"
      ]
     },
     "execution_count": 9,
     "metadata": {},
     "output_type": "execute_result"
    }
   ],
   "source": [
    "# Build the model with the optimal hyperparameters and train it on the data\n",
    "model = tuner.hypermodel.build(best_hps)\n",
    "model.fit(img_train, label_train, epochs = 10, validation_data = (img_test, label_test))"
   ]
  },
  {
   "cell_type": "markdown",
   "id": "63616333-7e3c-46e8-82da-97c84cfdcafe",
   "metadata": {},
   "source": [
    "---\n",
    "\n",
    "### 요약\n",
    "- [TensorFlow 블로그의 Keras Tuner](https://blog.tensorflow.org/2020/01/hyperparameter-tuning-with-keras-tuner.html)\n",
    "- [Keras Tuner 웹 사이트](https://keras-team.github.io/keras-tuner/)"
   ]
  },
  {
   "cell_type": "code",
   "execution_count": null,
   "id": "469076d8-2090-47ef-8ae7-1c085af319ec",
   "metadata": {},
   "outputs": [],
   "source": []
  }
 ],
 "metadata": {
  "kernelspec": {
   "display_name": "Python 3 (ipykernel)",
   "language": "python",
   "name": "python3"
  },
  "language_info": {
   "codemirror_mode": {
    "name": "ipython",
    "version": 3
   },
   "file_extension": ".py",
   "mimetype": "text/x-python",
   "name": "python",
   "nbconvert_exporter": "python",
   "pygments_lexer": "ipython3",
   "version": "3.9.9"
  }
 },
 "nbformat": 4,
 "nbformat_minor": 5
}
