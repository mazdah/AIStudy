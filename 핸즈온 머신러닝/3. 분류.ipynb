{
 "cells": [
  {
   "cell_type": "markdown",
   "id": "c357cb37-2a42-482e-a222-e10baf81fd71",
   "metadata": {},
   "source": [
    "# 3.1 MNIST\n",
    "\n",
    "- 사이킷런을 이용하여 데이터셋 내려받기"
   ]
  },
  {
   "cell_type": "code",
   "execution_count": 1,
   "id": "ab4e8703-becc-4885-b2fb-bf60adbef15f",
   "metadata": {},
   "outputs": [
    {
     "data": {
      "text/plain": [
       "dict_keys(['data', 'target', 'frame', 'categories', 'feature_names', 'target_names', 'DESCR', 'details', 'url'])"
      ]
     },
     "execution_count": 1,
     "metadata": {},
     "output_type": "execute_result"
    }
   ],
   "source": [
    "from sklearn.datasets import fetch_openml\n",
    "\n",
    "mnist = fetch_openml(\"mnist_784\", version=1, as_frame=False)\n",
    "mnist.keys()"
   ]
  },
  {
   "cell_type": "code",
   "execution_count": 2,
   "id": "63b16566-97e9-4310-9932-d26be723d6b9",
   "metadata": {},
   "outputs": [
    {
     "data": {
      "text/plain": [
       "(70000, 784)"
      ]
     },
     "execution_count": 2,
     "metadata": {},
     "output_type": "execute_result"
    }
   ],
   "source": [
    "X, y = mnist[\"data\"], mnist[\"target\"]\n",
    "X.shape"
   ]
  },
  {
   "cell_type": "code",
   "execution_count": 3,
   "id": "c8dbcc8a-ff19-4d7d-a622-e78a4deec52a",
   "metadata": {},
   "outputs": [
    {
     "data": {
      "text/plain": [
       "(70000,)"
      ]
     },
     "execution_count": 3,
     "metadata": {},
     "output_type": "execute_result"
    }
   ],
   "source": [
    "y.shape"
   ]
  },
  {
   "cell_type": "code",
   "execution_count": 46,
   "id": "d2a39fbc-ed7b-42a0-b67d-e92248a8235b",
   "metadata": {},
   "outputs": [],
   "source": [
    "# 깔끔한 그래프 출력을 위해\n",
    "import os\n",
    "\n",
    "%matplotlib inline\n",
    "import matplotlib as mpl\n",
    "import matplotlib.pyplot as plt\n",
    "mpl.rc('axes', labelsize=14)\n",
    "mpl.rc('xtick', labelsize=12)\n",
    "mpl.rc('ytick', labelsize=12)\n",
    "\n",
    "# 그림을 저장할 위치\n",
    "PROJECT_ROOT_DIR = \".\"\n",
    "CHAPTER_ID = \"classification\"\n",
    "IMAGES_PATH = os.path.join(PROJECT_ROOT_DIR, \"images\", CHAPTER_ID)\n",
    "os.makedirs(IMAGES_PATH, exist_ok=True)\n",
    "\n",
    "def save_fig(fig_id, tight_layout=True, fig_extension=\"png\", resolution=300):\n",
    "    path = os.path.join(IMAGES_PATH, fig_id + \".\" + fig_extension)\n",
    "    print(\"그림 저장:\", fig_id)\n",
    "    if tight_layout:\n",
    "        plt.tight_layout()\n",
    "    plt.savefig(path, format=fig_extension, dpi=resolution)"
   ]
  },
  {
   "cell_type": "code",
   "execution_count": 47,
   "id": "7d03ef3f-52f0-46f0-bc8e-a6bf3befef69",
   "metadata": {},
   "outputs": [
    {
     "data": {
      "image/png": "[encoded data removed]",
      "text/plain": [
       "<Figure size 432x288 with 1 Axes>"
      ]
     },
     "metadata": {
      "needs_background": "light"
     },
     "output_type": "display_data"
    }
   ],
   "source": [
    "some_digit = X[0]\n",
    "some_digit_image = some_digit.reshape(28,28)\n",
    "\n",
    "plt.imshow(some_digit_image, cmap=\"binary\")\n",
    "plt.axis(\"off\")\n",
    "plt.show()"
   ]
  },
  {
   "cell_type": "code",
   "execution_count": 5,
   "id": "180457c2-fec7-46a9-9422-0332b64859a6",
   "metadata": {},
   "outputs": [
    {
     "data": {
      "text/plain": [
       "'5'"
      ]
     },
     "execution_count": 5,
     "metadata": {},
     "output_type": "execute_result"
    }
   ],
   "source": [
    "y[0]"
   ]
  },
  {
   "cell_type": "code",
   "execution_count": 6,
   "id": "7ed176da-37fe-4b52-8797-059a85cd47ce",
   "metadata": {},
   "outputs": [],
   "source": [
    "import numpy as np\n",
    "\n",
    "y = y.astype(np.uint8)"
   ]
  },
  {
   "cell_type": "markdown",
   "id": "1491eacf-475d-4683-b3d8-55246e4a3974",
   "metadata": {},
   "source": [
    "- 훈련 세트와 테스트 세트 분리(이미 앞의 60,000개와 뒤의 10,000개로 나위어 있음)"
   ]
  },
  {
   "cell_type": "code",
   "execution_count": 7,
   "id": "63e4e217-1e1c-44e7-a27b-4ebe433ef4f3",
   "metadata": {},
   "outputs": [],
   "source": [
    "X_train, X_test, y_train, y_test = X[:60000], X[60000:], y[:60000], y[60000:]"
   ]
  },
  {
   "cell_type": "markdown",
   "id": "94d1a112-3849-446b-8dfc-b9857c2f4f3b",
   "metadata": {},
   "source": [
    "---"
   ]
  },
  {
   "cell_type": "markdown",
   "id": "37a51d1b-2e6c-44dc-bf00-4aba40b30cdb",
   "metadata": {},
   "source": [
    "# 3.2 이진 분류기 훈련\n",
    "\n",
    "- 10 개의 숫자 중 5만 구분할 수 있도록 구현(5와 5가 아닌 숫자, 두 개의 클래스로 분류)"
   ]
  },
  {
   "cell_type": "code",
   "execution_count": 8,
   "id": "dea199b8-2568-4035-b809-cdeb65178333",
   "metadata": {},
   "outputs": [],
   "source": [
    "y_train_5 = (y_train == 5)\n",
    "y_test_5 = (y_test == 5)"
   ]
  },
  {
   "cell_type": "markdown",
   "id": "087d8441-2445-4458-947b-b87b21e366f2",
   "metadata": {},
   "source": [
    "- SGDClassifier 클래스를 이용하여 확률적 경사 하강법<sup>Stochastic Gradient Descent</sup>(SGD)분류기 사용\n",
    "- 매우 큰 데이터셋을 효율적으로 처리하는 장점이 있음"
   ]
  },
  {
   "cell_type": "code",
   "execution_count": 9,
   "id": "e2522940-9931-4780-8443-4be9aec2e7d4",
   "metadata": {},
   "outputs": [
    {
     "data": {
      "text/plain": [
       "array([ True])"
      ]
     },
     "execution_count": 9,
     "metadata": {},
     "output_type": "execute_result"
    }
   ],
   "source": [
    "from sklearn.linear_model import SGDClassifier\n",
    "\n",
    "sgd_clf = SGDClassifier(random_state=42)\n",
    "# 훈련\n",
    "sgd_clf.fit(X_train, y_train_5)\n",
    "# 예측\n",
    "sgd_clf.predict([some_digit])"
   ]
  },
  {
   "cell_type": "markdown",
   "id": "70a1b98d-d0d2-4218-b14c-648812661eb9",
   "metadata": {},
   "source": [
    "---"
   ]
  },
  {
   "cell_type": "markdown",
   "id": "52d9bee7-e244-47ef-b6e3-d0f546a2e8a2",
   "metadata": {},
   "source": [
    "# 3.3 성능 측정\n",
    "\n",
    "### 3.3.1 교차 검증을 사용한 정확도 측정\n",
    "\n",
    "- 직접 구현한 교차 검증 기능"
   ]
  },
  {
   "cell_type": "code",
   "execution_count": 10,
   "id": "8a090387-9e35-4a87-bff8-216379b4f37e",
   "metadata": {},
   "outputs": [
    {
     "name": "stdout",
     "output_type": "stream",
     "text": [
      "0.9669\n",
      "0.91625\n",
      "0.96785\n"
     ]
    }
   ],
   "source": [
    "from sklearn.model_selection import StratifiedKFold\n",
    "from sklearn.base import clone\n",
    "\n",
    "skfolds = StratifiedKFold(n_splits=3, random_state=42, shuffle=True)\n",
    "\n",
    "for train_index, test_index in skfolds.split(X_train, y_train_5):\n",
    "    clone_clf = clone(sgd_clf)\n",
    "    X_train_folds = X_train[train_index]\n",
    "    y_train_folds = y_train_5[train_index]\n",
    "    X_test_fold = X_train[test_index]\n",
    "    y_test_fold = y_train_5[test_index]\n",
    "    \n",
    "    clone_clf.fit(X_train_folds, y_train_folds)\n",
    "    y_pred = clone_clf.predict(X_test_fold)\n",
    "    n_correct = sum(y_pred == y_test_fold)\n",
    "    print(n_correct / len(y_pred))"
   ]
  },
  {
   "cell_type": "markdown",
   "id": "0919ad83-d3c4-4255-a44a-347e11db0431",
   "metadata": {},
   "source": [
    "- 사이킷런의 cross_val_score()를 이용한 평가"
   ]
  },
  {
   "cell_type": "code",
   "execution_count": 11,
   "id": "6ebfa289-ac6a-426f-8984-0841a8a0fee0",
   "metadata": {},
   "outputs": [
    {
     "data": {
      "text/plain": [
       "array([0.95035, 0.96035, 0.9604 ])"
      ]
     },
     "execution_count": 11,
     "metadata": {},
     "output_type": "execute_result"
    }
   ],
   "source": [
    "from sklearn.model_selection import cross_val_score\n",
    "\n",
    "cross_val_score(sgd_clf, X_train, y_train_5, cv=3, scoring=\"accuracy\")"
   ]
  },
  {
   "cell_type": "markdown",
   "id": "ce0b98b6-ed44-4713-bcff-292814b3e49c",
   "metadata": {},
   "source": [
    "- 모든 이미지에 대해 5 아닌 숫자에 대한 이진 분류기 만들기"
   ]
  },
  {
   "cell_type": "code",
   "execution_count": 12,
   "id": "be90a55e-32e6-4466-8aef-a93f7ec46f73",
   "metadata": {},
   "outputs": [],
   "source": [
    "from sklearn.base import BaseEstimator\n",
    "\n",
    "class Never5Classifier(BaseEstimator):\n",
    "    def fit(self, X, y=None):\n",
    "        return self\n",
    "    def predict(self, X):\n",
    "        return np.zeros((len(X), 1), dtype=bool)"
   ]
  },
  {
   "cell_type": "code",
   "execution_count": 13,
   "id": "df4709a9-1196-420e-993d-2044aabdf909",
   "metadata": {},
   "outputs": [
    {
     "data": {
      "text/plain": [
       "array([0.91125, 0.90855, 0.90915])"
      ]
     },
     "execution_count": 13,
     "metadata": {},
     "output_type": "execute_result"
    }
   ],
   "source": [
    "never_5_clf = Never5Classifier()\n",
    "cross_val_score(never_5_clf, X_train, y_train_5, cv=3, scoring=\"accuracy\")"
   ]
  },
  {
   "cell_type": "markdown",
   "id": "56d4d714-60ec-4bc1-b801-ee0e94237df3",
   "metadata": {},
   "source": [
    "- 정확도를 성능 지표로 삼는 것은 좋지 않다(특히 불균형한 데이터셋에서)."
   ]
  },
  {
   "cell_type": "markdown",
   "id": "a8c28d37-8b86-4028-ae22-3dcf9728bb8f",
   "metadata": {},
   "source": [
    "### 3.3.2 오차 행렬\n",
    "\n",
    "- 분류기의 성능을 평가하는 더 좋은 방법은 오차 행렬<sup>confusion matrix</sup>를 조사하는 것\n",
    "- cross_val_predict()로 예측을 만든다.\n",
    "- cross_val_predict() 함수는 k-겹 교차 검증을 수행하지만 평가 점수가 아닌 각 테스트 폴드에서 얻은 예측을 반환한다.\n",
    "- confusion_matrix() 함수로 오차 행렬 생성\n",
    "- 오차 행렬의 행은 실제 클래스를, 열은 예측한 클래스를 의미"
   ]
  },
  {
   "cell_type": "code",
   "execution_count": 14,
   "id": "797a04b3-21dd-485d-b873-860bfbd29fca",
   "metadata": {},
   "outputs": [],
   "source": [
    "from sklearn.model_selection import cross_val_predict\n",
    "\n",
    "y_train_pred = cross_val_predict(sgd_clf, X_train, y_train_5, cv=3)"
   ]
  },
  {
   "cell_type": "code",
   "execution_count": 15,
   "id": "758a03ba-974c-4e80-aed5-6c2efe071a18",
   "metadata": {},
   "outputs": [
    {
     "data": {
      "text/plain": [
       "array([[53892,   687],\n",
       "       [ 1891,  3530]])"
      ]
     },
     "execution_count": 15,
     "metadata": {},
     "output_type": "execute_result"
    }
   ],
   "source": [
    "from sklearn.metrics import confusion_matrix\n",
    "\n",
    "confusion_matrix(y_train_5, y_train_pred)"
   ]
  },
  {
   "cell_type": "markdown",
   "id": "aeaa0fad-c0ec-445d-9570-d2c26fa36250",
   "metadata": {},
   "source": [
    "> 5 아님 이미지에 대해 53892 건을 정확하게 분류, 687건을 잘못 분류  \n",
    "> 5 이미지에 대해 1891 건을 5 아님으로 잘못 분류, 3530건을 5로 정확하게 분류함"
   ]
  },
  {
   "cell_type": "code",
   "execution_count": 17,
   "id": "1bd5bd16-8fdd-45a8-818f-a5db44b3713f",
   "metadata": {},
   "outputs": [
    {
     "data": {
      "text/plain": [
       "array([[54579,     0],\n",
       "       [    0,  5421]])"
      ]
     },
     "execution_count": 17,
     "metadata": {},
     "output_type": "execute_result"
    }
   ],
   "source": [
    "# 환벽하게 분류한 경우의 오차 행렬의 형태\n",
    "y_train_perfect_prediction = y_train_5\n",
    "\n",
    "confusion_matrix(y_train_5, y_train_perfect_prediction)"
   ]
  },
  {
   "cell_type": "markdown",
   "id": "49d99758-ff35-4afc-8438-7d854d844017",
   "metadata": {},
   "source": [
    "> **분류기의 정밀도(양성 예측의 정확도)**  \n",
    "> $ 정밀도 = \\frac{TP}{TP + FP} $  \n",
    "> TP: 진짜 양성의 수, FP: 거짓 양성의 수\n",
    "\n",
    "- 정밀도는 재현율<sup>recall</sup>과 함께 사용하는 것이 일반적\n",
    "\n",
    "> **뷴류기의 재현률(민감도<sup>sensitivity</sup>, 진짜 양성 비율<sup>true positive rate</sup>(TPR))**  \n",
    "> $ 재현율 = \\frac{TP}{TP + FN} $  \n",
    "> FP: 거짓 음성의 수\n",
    "\n",
    "| TN(진짜 음성) | FP(거짓 양성) |\n",
    "|---|---|\n",
    "| FN(거짓 음성) | TP(진짜 양성) |"
   ]
  },
  {
   "cell_type": "markdown",
   "id": "4df5739a-0e62-4ed5-8c84-706a30e7ae64",
   "metadata": {},
   "source": [
    "### 3.3.3 정밀도와 재현율\n",
    "\n",
    "- 사이킷런에서 사용되는 함수들"
   ]
  },
  {
   "cell_type": "code",
   "execution_count": 18,
   "id": "15979eb6-a606-4123-a840-bd98284f18c4",
   "metadata": {},
   "outputs": [
    {
     "data": {
      "text/plain": [
       "0.8370879772350012"
      ]
     },
     "execution_count": 18,
     "metadata": {},
     "output_type": "execute_result"
    }
   ],
   "source": [
    "from sklearn.metrics import precision_score, recall_score\n",
    "\n",
    "precision_score(y_train_5, y_train_pred)"
   ]
  },
  {
   "cell_type": "code",
   "execution_count": 20,
   "id": "edaa7396-1188-44bf-bacb-370f302cb00d",
   "metadata": {},
   "outputs": [
    {
     "data": {
      "text/plain": [
       "0.6511713705958311"
      ]
     },
     "execution_count": 20,
     "metadata": {},
     "output_type": "execute_result"
    }
   ],
   "source": [
    "recall_score(y_train_5, y_train_pred)"
   ]
  },
  {
   "cell_type": "markdown",
   "id": "7b200e02-5de2-49b2-93a3-9d158b721748",
   "metadata": {},
   "source": [
    "> **F<sub>1</sub> 점수<sup>F<sub>1</sub> score</sup>**  \n",
    "> 정밀도와 재현율의 조화 평균<sup>harmonic mean</sup>  \n",
    "> $ F_1 = \\frac{2}{\\frac{1}{정밀도} + \\frac{1}{재현율}} = 2 \\times \\frac{정밀도 \\times 재현율}{정밀도 + 재현율} = \\frac{TP}{TP + \\frac{FN + FP}{2}} $\n",
    "\n",
    "- f1_score() 함수를 이용하여 F<sub>1</sub> 점수 계산\n",
    "- 상황에 따라 정밀도와 재현율은 트레이트오프가 있다."
   ]
  },
  {
   "cell_type": "code",
   "execution_count": 22,
   "id": "8ca0aa9f-3bac-4ebd-ab0a-8afbec8f4c2c",
   "metadata": {},
   "outputs": [
    {
     "data": {
      "text/plain": [
       "0.7325171197343846"
      ]
     },
     "execution_count": 22,
     "metadata": {},
     "output_type": "execute_result"
    }
   ],
   "source": [
    "from sklearn.metrics import f1_score\n",
    "\n",
    "f1_score(y_train_5, y_train_pred)"
   ]
  },
  {
   "cell_type": "markdown",
   "id": "39909f74-967b-4391-a9f1-d46aa286b78f",
   "metadata": {},
   "source": [
    "### 3.3.4 정밀도/재현율 트레이드오프\n",
    "\n",
    "- SGDClassifier는 결정 함수<sup>decision function</sup>를 사용하여 각 샘플의 점수를 계산함며, 점수가 임곗값보다 크면 샘플을 양성 클래스로, 그렇지 않으면 음성 클래스로 할당한다.\n",
    "- 이 임곗값을 높이면 정밀도는 높아지나 재현율이 낮아지고, 낮추면 정밀도는 낮아지고 재현율이 높아진다.\n",
    "- 사이킷런에서 분류기의 predict() 메서드 대신 decision_function() 메서드를 호출하면 각 샘플의 점수를 얻을 수 있으며 이 점수를 기반으로 원하는 임곗값을 정해 예측을 만들 수 있다.\n",
    "- 적절한 임곗값을 정하기 위해서는 cross_val_predict() 함수를 사용하여 훈련 세트에 있는 모든 샘플의 점수를 구해야 한다.\n",
    "- precision_recall_curve() 함수를 이용하여 가능한 모든 임곗값에 대한 정밀도와 재현율을 계산할 수 있다."
   ]
  },
  {
   "cell_type": "code",
   "execution_count": 23,
   "id": "a6d12bc1-97f8-4237-880f-1518284f189a",
   "metadata": {},
   "outputs": [
    {
     "data": {
      "text/plain": [
       "array([2164.22030239])"
      ]
     },
     "execution_count": 23,
     "metadata": {},
     "output_type": "execute_result"
    }
   ],
   "source": [
    "y_scores = sgd_clf.decision_function([some_digit])\n",
    "y_scores"
   ]
  },
  {
   "cell_type": "code",
   "execution_count": 25,
   "id": "e5eca250-9b0b-490e-83dc-e9cf64e8f877",
   "metadata": {},
   "outputs": [
    {
     "data": {
      "text/plain": [
       "array([ True])"
      ]
     },
     "execution_count": 25,
     "metadata": {},
     "output_type": "execute_result"
    }
   ],
   "source": [
    "# 임곗값\n",
    "threshold = 0\n",
    "y_some_digit_pred = (y_scores > threshold)\n",
    "y_some_digit_pred"
   ]
  },
  {
   "cell_type": "code",
   "execution_count": 26,
   "id": "3a3a1455-3b7a-4c89-993e-d824bb7aa2ab",
   "metadata": {},
   "outputs": [
    {
     "data": {
      "text/plain": [
       "array([False])"
      ]
     },
     "execution_count": 26,
     "metadata": {},
     "output_type": "execute_result"
    }
   ],
   "source": [
    "threshold = 8000\n",
    "y_some_digit_pred = (y_scores > threshold)\n",
    "y_some_digit_pred"
   ]
  },
  {
   "cell_type": "code",
   "execution_count": 28,
   "id": "07896858-f0f7-47eb-a5e7-34f9104182ce",
   "metadata": {},
   "outputs": [],
   "source": [
    "# 결정 젘수를 반환받도록 지정한 코드\n",
    "y_scores = cross_val_predict(sgd_clf, X_train, y_train_5, cv=3, method=\"decision_function\")"
   ]
  },
  {
   "cell_type": "code",
   "execution_count": 29,
   "id": "e53cfc35-6cfa-4d27-b172-a9a08afc0dd4",
   "metadata": {},
   "outputs": [],
   "source": [
    "# 모든 임곗값에 대한 정밀도와 재현율 계산\n",
    "from sklearn.metrics import precision_recall_curve\n",
    "\n",
    "precisions, recalls, thresholds = precision_recall_curve(y_train_5, y_scores)"
   ]
  },
  {
   "cell_type": "code",
   "execution_count": 48,
   "id": "10c9aa55-1cd2-4d54-bcba-0324fe6f8a1b",
   "metadata": {},
   "outputs": [
    {
     "name": "stdout",
     "output_type": "stream",
     "text": [
      "그림 저장: precision_recall_vs_threshold_plot\n"
     ]
    },
    {
     "data": {
      "image/png": "[encoded data removed]",
      "text/plain": [
       "<Figure size 576x288 with 1 Axes>"
      ]
     },
     "metadata": {
      "needs_background": "light"
     },
     "output_type": "display_data"
    }
   ],
   "source": [
    "# 임곗값의 함수로 정밀도와 재현율 그리기\n",
    "import matplotlib\n",
    "\n",
    "matplotlib.rcParams['axes.unicode_minus'] = False\n",
    "matplotlib.rcParams['font.family'] = 'AppleGothic'\n",
    "\n",
    "def plot_precision_recall_vs_threshold(predicions, recalls, thresholds):\n",
    "    plt.plot(thresholds, precisions[:-1], \"b--\", label=\"정밀도\")\n",
    "    plt.plot(thresholds, recalls[:-1], \"g-\", label=\"재현율\")\n",
    "    plt.legend(loc=\"center right\", fontsize=16) # Not shown in the book\n",
    "    plt.xlabel(\"Threshold\", fontsize=16)        # Not shown\n",
    "    plt.grid(True)                              # Not shown\n",
    "    plt.axis([-50000, 50000, 0, 1])             # Not shown\n",
    "    \n",
    "recall_90_precision = recalls[np.argmax(precisions >= 0.90)]\n",
    "threshold_90_precision = thresholds[np.argmax(precisions >= 0.90)]\n",
    "\n",
    "\n",
    "plt.figure(figsize=(8, 4))                                                                  # Not shown\n",
    "plot_precision_recall_vs_threshold(precisions, recalls, thresholds)\n",
    "plt.plot([threshold_90_precision, threshold_90_precision], [0., 0.9], \"r:\")                 # Not shown\n",
    "plt.plot([-50000, threshold_90_precision], [0.9, 0.9], \"r:\")                                # Not shown\n",
    "plt.plot([-50000, threshold_90_precision], [recall_90_precision, recall_90_precision], \"r:\")# Not shown\n",
    "plt.plot([threshold_90_precision], [0.9], \"ro\")                                             # Not shown\n",
    "plt.plot([threshold_90_precision], [recall_90_precision], \"ro\")                             # Not shown\n",
    "save_fig(\"precision_recall_vs_threshold_plot\")                                              # Not shown\n",
    "plt.show()"
   ]
  },
  {
   "cell_type": "code",
   "execution_count": 49,
   "id": "c739fad9-5dcd-463c-82eb-dcd2ff56dd90",
   "metadata": {},
   "outputs": [
    {
     "name": "stdout",
     "output_type": "stream",
     "text": [
      "그림 저장: precision_vs_recall_plot\n"
     ]
    },
    {
     "data": {
      "image/png": "[encoded data removed]",
      "text/plain": [
       "<Figure size 576x432 with 1 Axes>"
      ]
     },
     "metadata": {
      "needs_background": "light"
     },
     "output_type": "display_data"
    }
   ],
   "source": [
    "# 재현율에 대한 정밀도 곡선 그리기\n",
    "\n",
    "def plot_precision_vs_recall(precisions, recalls):\n",
    "    plt.plot(recalls, precisions, \"b-\", linewidth=2)\n",
    "    plt.xlabel(\"Recall\", fontsize=16)\n",
    "    plt.ylabel(\"Precision\", fontsize=16)\n",
    "    plt.axis([0, 1, 0, 1])\n",
    "    plt.grid(True)\n",
    "\n",
    "plt.figure(figsize=(8, 6))\n",
    "plot_precision_vs_recall(precisions, recalls)\n",
    "plt.plot([recall_90_precision, recall_90_precision], [0., 0.9], \"r:\")\n",
    "plt.plot([0.0, recall_90_precision], [0.9, 0.9], \"r:\")\n",
    "plt.plot([recall_90_precision], [0.9], \"ro\")\n",
    "save_fig(\"precision_vs_recall_plot\")\n",
    "plt.show()"
   ]
  },
  {
   "cell_type": "markdown",
   "id": "3de3fd51-45e7-4d1b-87b8-77ddbe7cd42e",
   "metadata": {},
   "source": [
    "- 그래프상 재현율 80% 근처에서 정밀도가 급격히 줄어드는데 이 직전 값을 정밀도/재현율 트레이드오프로 선택하는 것이 좋다.\n",
    "- 목표 정밀도를 결정하기 전에 반드시 기준이 되는 최저 재현율을 결정해야 한다."
   ]
  },
  {
   "cell_type": "code",
   "execution_count": 50,
   "id": "41c7ca64-6c6b-4142-9457-27cb8facb559",
   "metadata": {},
   "outputs": [],
   "source": [
    "# 훈련 세트에 대한 예측을 만드는 코드\n",
    "y_train_pred_90 = (y_scores >= threshold_90_precision)"
   ]
  },
  {
   "cell_type": "code",
   "execution_count": 52,
   "id": "532b6432-1dbc-42dc-bdc2-99e60ef9c322",
   "metadata": {},
   "outputs": [
    {
     "data": {
      "text/plain": [
       "0.9000345901072293"
      ]
     },
     "execution_count": 52,
     "metadata": {},
     "output_type": "execute_result"
    }
   ],
   "source": [
    "# 위 예측에 대한 정밀도와 재현율\n",
    "precision_score(y_train_5, y_train_pred_90)"
   ]
  },
  {
   "cell_type": "code",
   "execution_count": 53,
   "id": "8bf05553-ffa9-4c6c-9f7f-b2ddf20aad0d",
   "metadata": {},
   "outputs": [
    {
     "data": {
      "text/plain": [
       "0.4799852425751706"
      ]
     },
     "execution_count": 53,
     "metadata": {},
     "output_type": "execute_result"
    }
   ],
   "source": [
    "recall_score(y_train_5, y_train_pred_90)"
   ]
  },
  {
   "cell_type": "markdown",
   "id": "342f1ec9-d5f6-48db-acdf-4f7d3ded08a7",
   "metadata": {},
   "source": [
    "### 3.3.5 ROC 곡선"
   ]
  },
  {
   "cell_type": "code",
   "execution_count": null,
   "id": "f6e158c2-266f-4f88-90db-3cc98f66f4ee",
   "metadata": {},
   "outputs": [],
   "source": []
  }
 ],
 "metadata": {
  "kernelspec": {
   "display_name": "Python 3 (ipykernel)",
   "language": "python",
   "name": "python3"
  },
  "language_info": {
   "codemirror_mode": {
    "name": "ipython",
    "version": 3
   },
   "file_extension": ".py",
   "mimetype": "text/x-python",
   "name": "python",
   "nbconvert_exporter": "python",
   "pygments_lexer": "ipython3",
   "version": "3.9.12"
  }
 },
 "nbformat": 4,
 "nbformat_minor": 5
}
