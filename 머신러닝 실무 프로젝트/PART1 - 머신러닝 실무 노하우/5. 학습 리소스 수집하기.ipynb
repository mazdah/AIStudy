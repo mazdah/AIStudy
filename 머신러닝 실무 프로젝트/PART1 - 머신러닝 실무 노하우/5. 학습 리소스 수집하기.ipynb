{
 "cells": [
  {
   "cell_type": "markdown",
   "id": "e20ca711-4bd1-4de9-871c-8e5477ef0699",
   "metadata": {},
   "source": [
    "- 분류와 회귀 같은 지도 학습이나 추천 시스템에서 높은 성능을 내려면 정답 정보가 포함된 데이터나 말뭉치, 사전처럼 양질의 데이터가 많이 필요하다.\n",
    "\n",
    "# 5.1 학습 리소스 수집 방법\n",
    "\n",
    "- 훈련 데이터의 구성\n",
    "    - 입력: 액세스 로그 등에서 추출한 특징량\n",
    "    - 출력: 분류 레이블 또는 예측값\n",
    "    \n",
    "![머신러닝(지도 학습)의 얼개](./images/supervised.png)\n",
    "\n",
    "- 출력 레이블 혹은 예측값 부여 방법\n",
    "    - 서비스에 로그 사양을 정의하고 로그에서 추출(자동)\n",
    "    - 컨텐츠를 사람이 직접 확인하고 부여(수동)\n",
    "    - 기계적으로 정보를 부여한 뒤 결과를 사람이 확인(자동 + 수동)\n",
    "    \n",
    "- 훈련 데이터를 마드는 주체가 누구인가\n",
    "    1. 공개된 데이터셋이나 모델 활용\n",
    "    2. 개발자가 직접 훈련 데이터 작성\n",
    "    3. 동료나 지인에게 데이터 입력을 요청\n",
    "    4. 크라우드소싱 활용\n",
    "    5. 서비스에 통합해서 사용자가 입력"
   ]
  },
  {
   "cell_type": "markdown",
   "id": "e75b8b30-366a-4f0c-890c-009e42bc3077",
   "metadata": {},
   "source": [
    "---"
   ]
  },
  {
   "cell_type": "markdown",
   "id": "0cc85413-0b9d-48c7-8411-0f01a0b10e7c",
   "metadata": {},
   "source": [
    "# 5.2 공개된 데이터셋이나 모델 활용\n",
    "\n",
    "- 공개된 데이터셋 소스로 유명한 곳\n",
    "    - UCI: http://archive.ics.uci.edu/ml/\n",
    "    - Kaggel: https://www.kaggle.com/\n",
    "    - 이미지넷<sup>ImageNet</sup>: http://www.image-net.org\n",
    "    - 모델 주<sup>Model Zoo</sup>: https://github.com/BVLC/caffe/wiki/Model-Zoo\n",
    "    - 텐서플로: http://bit.ly/2KeJuIE\n",
    "    \n",
    "<br>\n",
    "\n",
    "- 공개된 데이터셋 사용 시 주의점\n",
    "    - 모델이나 데이터셋의 라이선스는 상업적으로 이용할 수 있는가?\n",
    "    - 내가 운용하는 시스템이나 서비스에 학습 완료된 모델이나 데이터셋을 적용할 수 있는가?\n",
    "  \n",
    "<br>\n",
    "  \n",
    "- 실무에서는 기존 데이터셋만으로 풀 수 있는 문제가 한정되어 있다."
   ]
  },
  {
   "cell_type": "markdown",
   "id": "1f345ebe-2723-4493-a64b-89d125dc813c",
   "metadata": {},
   "source": [
    "---"
   ]
  },
  {
   "cell_type": "markdown",
   "id": "f05abc95-36ba-41a0-ba33-c58981e80d8a",
   "metadata": {},
   "source": [
    "# 5.3 개발자가 직접 훈련 데이터 작성\n",
    "\n",
    "- 해결하려는 문제가 분류인지 회귀인지 고려\n",
    "- 훈련 데이터를 작성할 때는 사람이 직접 푼다면 어떤 정보를 사용할지를 주의 깊게 생각\n",
    "- 데이터를 훑어보기 전에 만든 카테고리를 그대로 사용 가능한지, 수정해야 하는지 고려\n",
    "- 사람이 보았을 때 유용할 듯한 정보를 특징에 포함\n",
    "- 혼자만의 작업은 편견이 개입되기 쉽다."
   ]
  },
  {
   "cell_type": "markdown",
   "id": "d96f4415-c9c0-4cf0-8663-e49f34456b33",
   "metadata": {},
   "source": [
    "---"
   ]
  },
  {
   "cell_type": "markdown",
   "id": "9d4f50ba-6e8e-4a08-9086-b86ea1ad83d3",
   "metadata": {},
   "source": [
    "# 5.4 동료나 지인에게 데이터 입력 요청\n",
    "\n",
    "- 스프레드시트에 대상 데이터를 복사한 후 레이블을 달도록 요청\n",
    "- 여러명이 작업하는 경우 작업 내용과 분류 기준을 잘 설명해야 함(분류 기준 문서화)\n",
    "- 같은 데이터에 여러 명이 정답을 부여하도록 하는 것도 중요(작업자들의 판단이 얼마나 일치하는지 파악)\n",
    "- 서로간에 정답 데이터를 보지 못하도록 해야 함(편견의 개입 배제)\n",
    "\n",
    "> **카파 계수**<sup>Kappa coefficient</sup>(K계수): 우연히 일치할 가능성을 고려한 기준"
   ]
  },
  {
   "cell_type": "markdown",
   "id": "69de3624-671a-4c14-8808-a6bbb19968ab",
   "metadata": {},
   "source": [
    "---"
   ]
  },
  {
   "cell_type": "markdown",
   "id": "3cc13017-f801-4b24-88f2-7ff106535f30",
   "metadata": {},
   "source": [
    "# 5.5 크라우드소싱 활용\n",
    "\n",
    "- 불특정 다수의 사람들이 서로 경쟁하는 방식이나 불특정 다수의 일반인이 모여 협동을 하는 마이크로 태스크 방식([아마존 메커니컬 터크<sup>Amazon Mechanical Turk</sup>](https://www.mturk.com/), [야후! 크라우드소싱](https://crowdsourcing.yahoo.co.jp))\n",
    "- 머신러닝 크라우드 서비스 내에서의 크라우드소싱\n",
    "    - 구글 클라우드 AI 플랫폼 레이블링 서비스\n",
    "    - 아마존 세이지메이커 그라운드 트루스\n",
    "- 크라우드소싱의 장점\n",
    "    - 전문가를 고용하는 것보다 비교적 저렴한 가격에 빠른 속도로 데이터를 얻을 수 있다.\n",
    "    - 작업 속도가 빠르므로 그만큼 시행착오를 여러 번 반복할 수 있다.\n",
    "    - 비용이 낮으므로 여러 사람에게 같은 일을 맡겨 중복성 있는 데이터를 만들 수 있다.\n",
    "- 주의할 점\n",
    "    - 작업자가 단시간에 끝낼 수 있어야 하므로 작업을 설계하기 까다롭다.\n",
    "    - 높은 전문성이 요구되는 작업은 절차를 잘 세분화하고 자세히 설명해야 한다.\n",
    "    - 작업 결과의 품질을 높이려면 결과를 주의해서 가공해야 한다.\n",
    "- 데이터의 품질을 평가하는 방법도 준비를 해야 한다."
   ]
  },
  {
   "cell_type": "markdown",
   "id": "f8c5d0a4-9255-4c1f-aef2-f869c91d53c4",
   "metadata": {},
   "source": [
    "---"
   ]
  },
  {
   "cell_type": "markdown",
   "id": "a4d2ed8a-887a-4093-9ae2-2ab141045ca6",
   "metadata": {},
   "source": [
    "# 5.6 서비스에 통합해서 사용자가 입력\n",
    "\n",
    "- 정답 데이터를 사용자로부터 입력받는 방법\n",
    "- 이용자 수가 일정 규모 이상이어야 하며, 참여자에게 줄 보상도 설계해야 함\n",
    "- 트렌드를 쫓기 쉽다는 부가적인 장점"
   ]
  },
  {
   "cell_type": "markdown",
   "id": "8118a824-32c1-4c15-b399-352c97c8cd83",
   "metadata": {},
   "source": [
    "---"
   ]
  },
  {
   "cell_type": "markdown",
   "id": "ff398871-eb8a-4934-aa15-3ce932f6fe7f",
   "metadata": {},
   "source": [
    "# 5.7 정리\n",
    "\n",
    "- 품질 좋은 데이터를 충분히 확보하는 일은 머신러닝에서 중요한 핵심 중 하나!"
   ]
  },
  {
   "cell_type": "code",
   "execution_count": null,
   "id": "fcbac487-7c09-4199-8b1f-75da525e6a83",
   "metadata": {},
   "outputs": [],
   "source": []
  }
 ],
 "metadata": {
  "kernelspec": {
   "display_name": "Python 3 (ipykernel)",
   "language": "python",
   "name": "python3"
  },
  "language_info": {
   "codemirror_mode": {
    "name": "ipython",
    "version": 3
   },
   "file_extension": ".py",
   "mimetype": "text/x-python",
   "name": "python",
   "nbconvert_exporter": "python",
   "pygments_lexer": "ipython3",
   "version": "3.9.12"
  }
 },
 "nbformat": 4,
 "nbformat_minor": 5
}
