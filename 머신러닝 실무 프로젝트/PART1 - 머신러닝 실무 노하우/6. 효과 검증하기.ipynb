{
 "cells": [
  {
   "cell_type": "markdown",
   "id": "fbf987ee-cda0-4173-969c-f60d532e2e02",
   "metadata": {},
   "source": [
    "# 6.1 효과 검증\n",
    "\n",
    "- 어떤 시책에 의해 발생한 효과를 추정하는 기법\n",
    "\n",
    "### 6.1.1 효과 검증까지 거쳐야 할 과정\n",
    "\n",
    "> 문제 정의 \\> 가설 설정 \\> 개입(개발) \\> 효과 검증\n",
    "\n",
    "- 검증에 사용할 지표는 가설 설정 단계에서 결정\n",
    "\n",
    "### 6.1.2 오프라인에서 검증하기 어려운 부분\n",
    "\n",
    "- **경제 효과**: 변동 용인의 영향을 많이 받음\n",
    "- **로그를 경유한 부작용**: 운영 중인 머신러닝 모델이 (자신의 예측 결과와 같은)다른 데이터에 영향을 받는 경우"
   ]
  },
  {
   "cell_type": "markdown",
   "id": "5ce24b39-9ac0-4a45-97d5-1acba945b913",
   "metadata": {},
   "source": [
    "---"
   ]
  },
  {
   "cell_type": "markdown",
   "id": "c85ad477-297e-4641-b6ba-31c558264d35",
   "metadata": {},
   "source": [
    "# 6.2 가설 검정\n",
    "\n",
    "- 효과 검증의 기반\n",
    "- 표본을 통해 모집단에 유의미한 차이가 발생했는지 확인\n",
    "\n",
    "### 6.2.1 동전이 찌그러지진 않았을까\n",
    "\n",
    "- **귀무가설**<sup>null hypothesis</sup>: 일반적으로 기각될 것이 예상되어 세워진 가설\n",
    "- **대립가설**<sup>alternative hypothesis</sup>: 검증을 통해 입증하고싶은 가설\n",
    "- **p-값**<sup>p-value</sup>: 귀무가설이 참일 때의 확률\n",
    "- **유의수준**<sup>significant level</sup>: 귀무가설이 참임에도 기각될 확률. 일반적으로 5%(0.05)\n",
    "- **표본 수와 표본 크기**: 표본을 구성하는 원소 수(예, 5명의 조사원이 1000 명씩의 대상을 조사하는 경우 표본 수는 5, 표본 크기는 1000)\n",
    "\n",
    "> 동전을 20번 던져 앞면이 15번, 뒷면이 5번 나온 경우  \n",
    "> * '앞면이 나올 확률은 50%다'는 귀무가설  \n",
    "> * '앞면이 나올 확률은 50%가 아니다'는 대립가설  \n",
    "> * 표본은 최근에 동전을 던진 기록  \n",
    "> * 표본 수는 1\n",
    "> * 표본 크기는 20(20번 던진 것)  \n",
    "> * 모집단은 해당 동전을 던진 모든 시행\n",
    "\n",
    "### 6.2.2 두 그룹의 모비율의 차를 이용한 검정\n",
    "\n",
    "- 두 개의 표본 사이의 차이를 검증\n",
    "> p-값처럼 명확한 판단 기준이 있다는 것이 가설 검정의 장점\n",
    "\n",
    "### 6.2.3 거짓 양성과 거짓 음성\n",
    "\n",
    "- **거짓 양성**<sup>false positive</sup>(1종 오류<sup>Type 1 Error</sup>, 알파 오류<sup>$ \\alpha $ Error</sup>): 유의 수준에 의해 귀무가설이 참인데도 불구하고 기각하도록 판단하는 것\n",
    "- **거짓 음성**<sup>false negative</sup>(2종 오류<sup>Type 2 Error</sup>, 베타 오류<sup>$ \\beta $ Error</sup>): 귀무가설이 거짓임에도 기각하지 못한 경우\n",
    "- **검정력**<sup>power</sup>: 유의한 차이를 바르게 찾아내는 능력\n",
    "\n",
    "> 검정력 = 1 - (유의한 차이가 있는데 차이가 없다고 판정할 확률)"
   ]
  },
  {
   "cell_type": "markdown",
   "id": "c41b9dbb-b315-4c34-9eb0-9c80d10ed492",
   "metadata": {},
   "source": [
    "---"
   ]
  },
  {
   "cell_type": "markdown",
   "id": "16ffb47e-ca79-497e-87a4-b70df4e909aa",
   "metadata": {},
   "source": [
    "# 6.3 가설 검정에서 주의할 점\n",
    "\n",
    "- 가설 검증을 잘못하면 거짓 양성의 확률이 높아져 p-값만으로 의사결정을 내리면 본질을 놓칠 수 있다.\n",
    "\n",
    "### 6.3.1 반복해서 검정하는 경우\n",
    "\n",
    "- 검정 대상 표본을 고정해야 한다.\n",
    "\n",
    "### 6.3.2 유의한 차이와 비지니스 임팩트\n",
    "\n",
    "- 표본의 크기가 커지면 작은 차이로도 유의미한 차이를 만들 수 있다.\n",
    "- 유의미한 차이가 있다는 것과 비지니스에 미치는 영향은 별개다.\n",
    "\n",
    "### 6.3.3 동시에 여러 가설 검정하기 (다중 검정<sup>multiple testing</sup>)\n",
    "\n",
    "- 다중 검정은 거짓 양성을 크게 늘린다.\n",
    "- 다중 검증에서 거짓 양성을 억제하는 방법들\n",
    "    - 잘못된 판단을 하나라도 할 수 있는 확률을 낮추는<sup>family wise error rate</sup>(FWER) 방법. 가장 간단한 것은 본페로니 교정<sup>Bonferroni correction</sup>\n",
    "    - 잘못된 판단의 비중을 낮추는<sup>false discovery rate</sup>(FDR) 방법\n",
    "\n"
   ]
  },
  {
   "cell_type": "code",
   "execution_count": null,
   "id": "1486bd0c-f50d-4947-b74d-1bc8c63d1bbc",
   "metadata": {},
   "outputs": [],
   "source": []
  }
 ],
 "metadata": {
  "kernelspec": {
   "display_name": "Python 3 (ipykernel)",
   "language": "python",
   "name": "python3"
  },
  "language_info": {
   "codemirror_mode": {
    "name": "ipython",
    "version": 3
   },
   "file_extension": ".py",
   "mimetype": "text/x-python",
   "name": "python",
   "nbconvert_exporter": "python",
   "pygments_lexer": "ipython3",
   "version": "3.9.9"
  }
 },
 "nbformat": 4,
 "nbformat_minor": 5
}
