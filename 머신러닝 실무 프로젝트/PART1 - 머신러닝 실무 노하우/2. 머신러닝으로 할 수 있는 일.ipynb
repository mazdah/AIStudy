{
 "cells": [
  {
   "cell_type": "markdown",
   "id": "af6b2a52-75c7-4219-9c98-52590857e89d",
   "metadata": {},
   "source": [
    "# 2.1 머신러닝 알고리즘 선택 방법\n",
    "\n",
    "- **분류**: 정답이 비연속적인 클래스(카테고리)이며, 정답과 입력 데이터의 조합을 학습하여 새로운 데이터의 클래스를 예측한다.\n",
    "- **회귀**: 정답이 수치이다. 정답과 입력 데이터의 조합을 학습하여 새로운 데이터에서 연속하는 값을 예측한다.\n",
    "- **군집화**: 어떤 기준에 따라 데이터를 그룹으로 묶는다.\n",
    "- **차원 축소**: 시각화 또는 계산량 절감을 목적으로 고차원 데이터를 저차원 공간에 매핑한다.\n",
    "- **그 외**\n",
    "    - 추천: 사용자가 선호할 만한 품목, 혹은 여람한 것과 비슷한 품목을 제시한다.\n",
    "    - 이상 탐지: 수상한 접근 등 평소와 다른 행동을 검출한다.\n",
    "    - 고빈도 패턴 마이닝: 데이터 안에서 발생 빈도가 높은 패턴을 추출한다.\n",
    "    - 강화 학습: 바둑이나 장기처럼 정답이 불명확한 환경에서, 앞으로 취할 행동을 선택하는 방법을 학습한다.\n",
    "    \n",
    "    ---\n",
    "    \n",
    "- 알고리즘 선택 요령\n",
    "    ![알고리즘 선택 요령](https://scikit-learn.org/stable/_static/ml_map.png)\n",
    "    \n",
    "    ---\n",
    "    \n",
    "- 학습에 사용하는 데이터 수, 예측 대상이 비연속적인지(클래스), 정답 레이블이 존재하는지 등의 정보가 핵심"
   ]
  },
  {
   "cell_type": "markdown",
   "id": "81eb18ed-8a3a-49e2-bb48-2157cfb39532",
   "metadata": {},
   "source": [
    "---"
   ]
  },
  {
   "cell_type": "markdown",
   "id": "ca9eca6e-c9e7-4e0f-b820-fd30567465a1",
   "metadata": {},
   "source": [
    "# 2.2 분류\n",
    "\n",
    "- 분류<sup>classification</sup>란 지도 학습의 한 종류로 카테고리와 같은 비연속적인 값을 예측한다.\n",
    "- 클래스 수가 2개이면 이진 분류, 3개 이상이면 다중클래스 분류라고 한다.\n",
    "- 분류 알고리즘 들\n",
    "    - 퍼셉트론\n",
    "    - 로지스틱 회귀\n",
    "    - 서포트 벡터 머신(SVM)\n",
    "    - 신경망\n",
    "    - k-최근접 이웃(k-NN)\n",
    "    - 결정 트리\n",
    "    - 랜덤 포레스트\n",
    "    - 경사 부스팅 결정 트리(GBDT)\n",
    "    \n",
    "- 퍼셉트론, 로지스틱 회귀, SVM, 신경망은 두 클래스의 경계면(초평면)에 대한 함수를 학습\n",
    "- k-최근접 이웃은 학습된 데이터와의 '거리'를 기준으로 판단\n",
    "- 결정 트리, 랜덤 포레스트, GBDT는 트리 구조로 표현된 규칙의 집함을 학습\n",
    "- 대부분의 분류 문제는 목적 함수와 결정 경계를 이해하면 쉽게 차이를 이해할 수 있다.\n",
    "\n",
    "### 2.2.1 퍼셉트론\n",
    "\n"
   ]
  },
  {
   "cell_type": "code",
   "execution_count": null,
   "id": "27ff7acf-7a28-42b4-a2c4-090bd16dec8a",
   "metadata": {},
   "outputs": [],
   "source": []
  }
 ],
 "metadata": {
  "kernelspec": {
   "display_name": "Python 3 (ipykernel)",
   "language": "python",
   "name": "python3"
  },
  "language_info": {
   "codemirror_mode": {
    "name": "ipython",
    "version": 3
   },
   "file_extension": ".py",
   "mimetype": "text/x-python",
   "name": "python",
   "nbconvert_exporter": "python",
   "pygments_lexer": "ipython3",
   "version": "3.9.9"
  }
 },
 "nbformat": 4,
 "nbformat_minor": 5
}
