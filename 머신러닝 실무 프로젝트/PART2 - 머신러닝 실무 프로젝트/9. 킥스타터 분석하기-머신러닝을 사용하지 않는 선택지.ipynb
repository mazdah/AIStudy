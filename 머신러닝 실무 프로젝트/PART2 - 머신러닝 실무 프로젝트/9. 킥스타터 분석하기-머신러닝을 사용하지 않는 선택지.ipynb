{
 "cells": [
  {
   "cell_type": "markdown",
   "id": "2ae3cb50-98f2-4c34-b161-dcf00b3fc2d4",
   "metadata": {},
   "source": [
    "> 킥스타터를 크롤링해 얻은 데이터를 기반으로 엑셀을 활용한 데이터 분석, 보고서 작성"
   ]
  },
  {
   "cell_type": "markdown",
   "id": "73ab748e-024b-4e30-b832-54b89589dde3",
   "metadata": {},
   "source": [
    "# 9.1 킥스타터 API 확인하기\n",
    "\n",
    "- 'kickstarter api'로 검색하여 'Does Kickstarter have a public API? - Stack Overflow' 문서 확인\n",
    "\n",
    "> https://www.kickstarter.com/projects/search?item=3d+printer  \n",
    "> https://www.kickstarter.com/projects/search.json?item=3d+printer"
   ]
  },
  {
   "cell_type": "markdown",
   "id": "5b337bda-8e17-4478-9a6e-19aa9dbf8da9",
   "metadata": {},
   "source": [
    "---"
   ]
  },
  {
   "cell_type": "markdown",
   "id": "1f7dacd9-8940-478e-bfc5-cd17d0659600",
   "metadata": {},
   "source": [
    "# 9.2 킥스타터 크롤러 만들기\n",
    "\n",
    "- 이 API는 요청당 검색 결과를 20건만 반환한다는 점과 200쪽까지만 검색할 수 있어 총 4,000건의 데이터만 얻을 수 있다.\n",
    "- 이로 인해 검색 시 기술 범주 아래의 범위로 지정\n",
    "- 크롤러와 분석 코드를 분리, 크롤러는 수집 후 저장, 분석 코드는 수집된 로컬 파일로 분석"
   ]
  },
  {
   "cell_type": "code",
   "execution_count": 12,
   "id": "8666b222-03fc-4912-87d8-15c42bc69f6a",
   "metadata": {},
   "outputs": [
    {
     "name": "stdout",
     "output_type": "stream",
     "text": [
      "https://www.kickstarter.com/projects/search.json?term=&category_id=16&page=1&sort=newest\n",
      "\n",
      "------------------------------------------\n",
      "16  :  1\n",
      "HTTP Error 403: Forbidden\n",
      "HTTPError Code :  403\n",
      "https://www.kickstarter.com/projects/search.json?term=&category_id=331&page=1&sort=newest\n",
      "\n",
      "------------------------------------------\n",
      "331  :  1\n",
      "HTTP Error 403: Forbidden\n",
      "HTTPError Code :  403\n",
      "https://www.kickstarter.com/projects/search.json?term=&category_id=332&page=1&sort=newest\n",
      "\n",
      "------------------------------------------\n",
      "332  :  1\n",
      "HTTP Error 403: Forbidden\n",
      "HTTPError Code :  403\n",
      "https://www.kickstarter.com/projects/search.json?term=&category_id=333&page=1&sort=newest\n",
      "\n",
      "------------------------------------------\n",
      "333  :  1\n",
      "HTTP Error 403: Forbidden\n",
      "HTTPError Code :  403\n",
      "https://www.kickstarter.com/projects/search.json?term=&category_id=334&page=1&sort=newest\n",
      "\n",
      "------------------------------------------\n",
      "334  :  1\n",
      "HTTP Error 403: Forbidden\n",
      "HTTPError Code :  403\n",
      "https://www.kickstarter.com/projects/search.json?term=&category_id=335&page=1&sort=newest\n",
      "\n",
      "------------------------------------------\n",
      "335  :  1\n",
      "HTTP Error 403: Forbidden\n",
      "HTTPError Code :  403\n",
      "https://www.kickstarter.com/projects/search.json?term=&category_id=336&page=1&sort=newest\n",
      "\n",
      "------------------------------------------\n",
      "336  :  1\n",
      "HTTP Error 403: Forbidden\n",
      "HTTPError Code :  403\n",
      "https://www.kickstarter.com/projects/search.json?term=&category_id=337&page=1&sort=newest\n",
      "\n",
      "------------------------------------------\n",
      "337  :  1\n",
      "HTTP Error 403: Forbidden\n",
      "HTTPError Code :  403\n",
      "https://www.kickstarter.com/projects/search.json?term=&category_id=52&page=1&sort=newest\n",
      "\n",
      "------------------------------------------\n",
      "52  :  1\n",
      "HTTP Error 403: Forbidden\n",
      "HTTPError Code :  403\n",
      "https://www.kickstarter.com/projects/search.json?term=&category_id=362&page=1&sort=newest\n",
      "\n",
      "------------------------------------------\n",
      "362  :  1\n",
      "HTTP Error 403: Forbidden\n",
      "HTTPError Code :  403\n",
      "https://www.kickstarter.com/projects/search.json?term=&category_id=338&page=1&sort=newest\n",
      "\n",
      "------------------------------------------\n",
      "338  :  1\n",
      "HTTP Error 403: Forbidden\n",
      "HTTPError Code :  403\n",
      "https://www.kickstarter.com/projects/search.json?term=&category_id=51&page=1&sort=newest\n",
      "\n",
      "------------------------------------------\n",
      "51  :  1\n",
      "HTTP Error 403: Forbidden\n",
      "HTTPError Code :  403\n",
      "https://www.kickstarter.com/projects/search.json?term=&category_id=339&page=1&sort=newest\n",
      "\n",
      "------------------------------------------\n",
      "339  :  1\n",
      "HTTP Error 403: Forbidden\n",
      "HTTPError Code :  403\n",
      "https://www.kickstarter.com/projects/search.json?term=&category_id=340&page=1&sort=newest\n",
      "\n",
      "------------------------------------------\n",
      "340  :  1\n",
      "HTTP Error 403: Forbidden\n",
      "HTTPError Code :  403\n",
      "https://www.kickstarter.com/projects/search.json?term=&category_id=341&page=1&sort=newest\n",
      "\n",
      "------------------------------------------\n",
      "341  :  1\n",
      "HTTP Error 403: Forbidden\n",
      "HTTPError Code :  403\n",
      "https://www.kickstarter.com/projects/search.json?term=&category_id=342&page=1&sort=newest\n",
      "\n",
      "------------------------------------------\n",
      "342  :  1\n",
      "HTTP Error 403: Forbidden\n",
      "HTTPError Code :  403\n"
     ]
    }
   ],
   "source": [
    "import urllib.request\n",
    "from urllib.error import HTTPError, URLError\n",
    "import json\n",
    "import os\n",
    "import time\n",
    "\n",
    "os.makedirs('result', exist_ok=True)\n",
    "\n",
    "search_term = \"\"\n",
    "sort_key = 'newest'\n",
    "category_list = [16, 331, 332, 333, 334, 335, 336, 337, 52, 362, 338, 51, 339, 340, 341, 342] # technology category\n",
    "query_base = \"https://www.kickstarter.com/projects/search.json?term=%s&category_id=%d&page=%d&sort=%s\"\n",
    "\n",
    "for category_id in category_list:\n",
    "    for page_id in range(1, 201):\n",
    "        try:\n",
    "            query = query_base % (search_term, category_id, page_id, sort_key)\n",
    "            print(query)\n",
    "            data = urllib.request.urlopen(query).read().decode(\"utf-8\")\n",
    "            print(data)\n",
    "            response_json = json.loads(data)\n",
    "        except HTTPError as e:\n",
    "            print(\"\\n------------------------------------------\")\n",
    "            print (category_id, \" : \", page_id)\n",
    "            print(e)\n",
    "            print('HTTPError Code : ', e.code)\n",
    "            break\n",
    "        except URLError as e:\n",
    "            print(\"\\n------------------------------------------\")\n",
    "            print (category_id, \" : \", page_id)\n",
    "            print(\"The Server Could not be found!\")\n",
    "            print(e)\n",
    "            print('URL Error Reason : ', e.reason)\n",
    "            break\n",
    "            \n",
    "        # 페이지당 20건의 결과가 반환되므로 1건씩 저장\n",
    "        for project in response_json[\"projects\"]:\n",
    "            filepath = \"result/%d.json\" % project[\"id\"]\n",
    "            fp = open(filepath, \"w\")\n",
    "            fp.write(json.dumps(project, sort_keys=True, indent=2))\n",
    "            fp.close()\n",
    "            \n",
    "        # 접속당 1초의 대기 시간을 주어 과도한 접근을 막는다.\n",
    "        time.sleep(1)"
   ]
  },
  {
   "cell_type": "markdown",
   "id": "01e9971a-9d98-4f16-aa47-e69e91a4a5f0",
   "metadata": {},
   "source": [
    "---"
   ]
  },
  {
   "cell_type": "markdown",
   "id": "fd9474e7-9cf1-474e-804a-e7a713f3fd9b",
   "metadata": {},
   "source": [
    "# 9.3 JSON 데이터를 CSV로 변환하기\n",
    "\n",
    "- 파일 로딩 시 파이썬 표준 라이브러리의 glob 사용\n",
    "- csv 형식으로의 변환에는 판다스의 pandas.io.json.json_normalize(json_data) 함수 사용"
   ]
  },
  {
   "cell_type": "code",
   "execution_count": 14,
   "id": "6662d69b-4ac5-4fe0-9c55-701f63b7b1f8",
   "metadata": {},
   "outputs": [
    {
     "name": "stderr",
     "output_type": "stream",
     "text": [
      "/var/folders/t4/mtkrqnk14yn1j76qhsrvnfvw0000gn/T/ipykernel_13167/3987926427.py:14: FutureWarning: pandas.io.json.json_normalize is deprecated, use pandas.json_normalize instead.\n",
      "  df = pandas.io.json.json_normalize(project_list)\n"
     ]
    }
   ],
   "source": [
    "import glob\n",
    "import json\n",
    "import pandas\n",
    "import pandas.io.json\n",
    "\n",
    "project_list = []\n",
    "\n",
    "# glob으로 result 폴더에 있는 파일을 하나씩 읽음\n",
    "for filename in glob.glob(\"result/*.json\"):\n",
    "    project = json.loads(open(filename).read())\n",
    "    project_list.append(project)\n",
    "    \n",
    "# json_normalize를 이용해 DataFrame으로 변환\n",
    "df = pandas.io.json.json_normalize(project_list)\n",
    "\n",
    "# \"_at\"으로 끝나는 unixtime 컬럼을 datetime으로 변환\n",
    "datetime_columns = filter(lambda a: a[-3:] == \"_at\", df.columns)\n",
    "for column in datetime_columns:\n",
    "    df[column] = pandas.to_datetime(df[column], unit='s')\n",
    "    \n",
    "# DataFrame에서 CSV 형식의 str 형식으로 변환한다.\n",
    "csv_data = df.to_csv()\n",
    "\n",
    "# 윈도우용 엑셀에 로딩하기 위해 CP949로 변환한다.\n",
    "csv_data = csv_data.encode(\"utf-8\", \"ignore\")\n",
    "\n",
    "# 결과 로딩\n",
    "fp = open(\"kickstarter_result.csv\", \"wb\")\n",
    "fp.write(csv_data)\n",
    "fp.close()"
   ]
  },
  {
   "cell_type": "markdown",
   "id": "8bb2d0f3-7f0a-43d1-835d-ab5924b53266",
   "metadata": {},
   "source": [
    "---"
   ]
  },
  {
   "cell_type": "markdown",
   "id": "d146d6d7-98b3-4646-93a2-b8917255e020",
   "metadata": {},
   "source": [
    "# 9.4 엑셀로 데이터 살펴보기\n",
    "\n",
    "- 가공하지 않은 데이터를 직접 보는 것은 분석 효율에 큰 영향을 준다.\n",
    "- 모금액(predged)과 목표액(goal) 정보를 이용해 달성률(=pledged / goal)을, 후원자 수(backer_count)에서 1인당 후원액(=pledged / backers_count)를 계산한 컬럼을 추가\n",
    "- 알 수 있는 사실들\n",
    "    - 킥스타터는 종료 시점에 임박한 프로젝트를 최상위 페이지에 소개한다.\n",
    "    - 종료 시점에 후원이 늘어나는 이유는 되지만 100% 근처에 특이점이 생기는 이유는 설명되지 않는다.\n",
    "    - 거의 목표에 달성했을 때 프로젝트 제안자가 더 열심히 홍보한다.\n",
    "    - 제안자의 지인들이 마지막 후원에 동참한다.\n",
    "    - 달성이 확실한 프로젝트에만 참여하려는 사람이 후원한다.\n",
    "    - 자신의 참여로 프로젝트가 달성되는 쾌감을 즐기는 사람이 있다."
   ]
  },
  {
   "cell_type": "markdown",
   "id": "c262e8fd-1b95-4a52-80ae-18c81d3bd72d",
   "metadata": {},
   "source": [
    "---"
   ]
  },
  {
   "cell_type": "markdown",
   "id": "aad7e098-29e1-4ccb-8d43-d25b6ec7bbe0",
   "metadata": {},
   "source": [
    "# 9.5 피벗 테이블로 다양하게 파악하기"
   ]
  },
  {
   "cell_type": "markdown",
   "id": "050e3dd3-bba2-4688-930c-daabe877bfce",
   "metadata": {},
   "source": [
    "**엑셀 학습 필요...ㅠ.ㅠ**"
   ]
  },
  {
   "cell_type": "markdown",
   "id": "e2f91c5e-18d4-4a83-b713-7ce1a2b9c5e2",
   "metadata": {},
   "source": [
    "---"
   ]
  },
  {
   "cell_type": "markdown",
   "id": "2f99f725-ad80-4006-a46e-bd90d9ed1844",
   "metadata": {},
   "source": [
    "# 9.6 목표를 달성했지만 취소된 프로젝트 확인하기"
   ]
  },
  {
   "cell_type": "markdown",
   "id": "e97892dd-2874-4944-b22c-be24b1f0e711",
   "metadata": {},
   "source": [
    "---"
   ]
  },
  {
   "cell_type": "markdown",
   "id": "adc67d89-8d87-456d-8641-e37b8d3f9db1",
   "metadata": {},
   "source": [
    "# 9.7 국가별로 살펴보기"
   ]
  },
  {
   "cell_type": "markdown",
   "id": "8d0e38e7-6845-4083-bfab-35b4564904ec",
   "metadata": {},
   "source": [
    "---"
   ]
  },
  {
   "cell_type": "markdown",
   "id": "383044ce-9ec9-456d-8160-c65244d92241",
   "metadata": {},
   "source": [
    "# 9.8 보고서 작성하기"
   ]
  },
  {
   "cell_type": "markdown",
   "id": "714e624f-c3c5-4f53-90b0-22bd587c0f44",
   "metadata": {},
   "source": [
    "---"
   ]
  },
  {
   "cell_type": "markdown",
   "id": "313ebc22-246d-43bc-8cba-4683911c782f",
   "metadata": {},
   "source": [
    "# 9.9 이후 작업\n",
    "\n",
    "- 분석해볼만한 관계들\n",
    "    - 프로젝트 소개글의 문장과 성공률\n",
    "    - 프로젝트 소개글의 제목과 성공률\n",
    "    - 팀 소개 유무와 성공률\n",
    "        - 팀 소개는 프로젝트 설명에 포함되므로 자연어 처리 필요\n",
    "    - 팀 구성원 수와 성공률\n",
    "        - 팀 구성원 수는 팀 소개 내용에 포함되므로 자연어 처리 필요\n",
    "    - 제안자의 타 프로젝트 후원 경험과 성공률\n",
    "        - 킥스타터를 활용하는 사용자일수록 킥스타터의 문화를 이해하고 있어 어떤 프로젝트의 성공 가능서이 높은지 알 수 있다.\n",
    "    - 프로젝트 모집 기간과 성공률\n",
    "    - 프로젝트 시작일, 종료일의 요일과 성공률"
   ]
  },
  {
   "cell_type": "markdown",
   "id": "bbf4feaa-cd96-41d4-b3e4-3259e308b0ee",
   "metadata": {},
   "source": [
    "---"
   ]
  },
  {
   "cell_type": "markdown",
   "id": "c09c2a52-9c05-4557-bb7f-70bb24f1a033",
   "metadata": {},
   "source": [
    "# 9.10 정리\n",
    "\n",
    "- 특정한 위치에 비연속적인 보상이 주어지는 유형의 문제에서는 비연속적인 보상이 생기는 구간에 착안하여 분석하는 것이 효과적이다.\n",
    "- 비연속성이 존재하는 주변을 분석하면 비지니스에서 강력한 무기가 될 수 있다."
   ]
  },
  {
   "cell_type": "code",
   "execution_count": null,
   "id": "08a6fa2b-b501-448b-b663-08726c51e696",
   "metadata": {},
   "outputs": [],
   "source": []
  }
 ],
 "metadata": {
  "kernelspec": {
   "display_name": "Python 3 (ipykernel)",
   "language": "python",
   "name": "python3"
  },
  "language_info": {
   "codemirror_mode": {
    "name": "ipython",
    "version": 3
   },
   "file_extension": ".py",
   "mimetype": "text/x-python",
   "name": "python",
   "nbconvert_exporter": "python",
   "pygments_lexer": "ipython3",
   "version": "3.9.12"
  }
 },
 "nbformat": 4,
 "nbformat_minor": 5
}
